{
 "cells": [
  {
   "cell_type": "code",
   "execution_count": 1,
   "metadata": {
    "execution": {
     "iopub.execute_input": "2020-09-24T11:48:56.040954Z",
     "iopub.status.busy": "2020-09-24T11:48:56.040134Z",
     "iopub.status.idle": "2020-09-24T11:48:57.120996Z",
     "shell.execute_reply": "2020-09-24T11:48:57.119976Z"
    },
    "papermill": {
     "duration": 1.131588,
     "end_time": "2020-09-24T11:48:57.121186",
     "exception": false,
     "start_time": "2020-09-24T11:48:55.989598",
     "status": "completed"
    },
    "tags": []
   },
   "outputs": [],
   "source": [
    "import numpy as np\n",
    "import pandas as pd\n",
    "import os\n",
    "from PIL import Image\n",
    "import pydicom\n",
    "import matplotlib.pyplot as plt\n",
    "import pylab\n",
    "import cv2\n",
    "from tensorflow.keras.utils import Sequence\n",
    "#import gdcm\n",
    "from tqdm import tqdm\n",
    "\n",
    "import tensorflow as tf\n",
    "import tensorflow.keras.layers as L\n",
    "import tensorflow.keras.models as M\n",
    "import tensorflow.keras.backend as K\n",
    "import tensorflow.keras.regularizers as R\n",
    "from sklearn.metrics import mean_absolute_error\n",
    "from sklearn.model_selection import KFold"
   ]
  },
  {
   "cell_type": "code",
   "execution_count": 2,
   "metadata": {
    "execution": {
     "iopub.execute_input": "2020-09-24T11:48:57.220521Z",
     "iopub.status.busy": "2020-09-24T11:48:57.219644Z",
     "iopub.status.idle": "2020-09-24T11:48:57.226994Z",
     "shell.execute_reply": "2020-09-24T11:48:57.227697Z"
    },
    "papermill": {
     "duration": 0.060416,
     "end_time": "2020-09-24T11:48:57.227870",
     "exception": false,
     "start_time": "2020-09-24T11:48:57.167454",
     "status": "completed"
    },
    "tags": []
   },
   "outputs": [],
   "source": [
    "EPOCHS = 5\n",
    "NUM_IMAGES = 150\n",
    "BATCH_SIZE = 5\n",
    "FOLDS = 5\n",
    "IMAGE_DIM = (NUM_IMAGES,55,55)\n",
    "COMP_DIR = '../input/osic-pulmonary-fibrosis-progression/'\n",
    "TRAIN_PATH = '../input/osic-pulmonary-fibrosis-progression/train'\n",
    "TEST_PATH = '../input/osic-pulmonary-fibrosis-progression/test'\n",
    "SUB_PATH = '../input/osic-pulmonary-fibrosis-progression/sample_submission.csv'"
   ]
  },
  {
   "cell_type": "code",
   "execution_count": 3,
   "metadata": {
    "_cell_guid": "79c7e3d0-c299-4dcb-8224-4455121ee9b0",
    "_uuid": "d629ff2d2480ee46fbb7e2d37f6b5fab8052498a",
    "execution": {
     "iopub.execute_input": "2020-09-24T11:48:57.344511Z",
     "iopub.status.busy": "2020-09-24T11:48:57.343561Z",
     "iopub.status.idle": "2020-09-24T11:48:57.378684Z",
     "shell.execute_reply": "2020-09-24T11:48:57.379803Z"
    },
    "papermill": {
     "duration": 0.093812,
     "end_time": "2020-09-24T11:48:57.379987",
     "exception": false,
     "start_time": "2020-09-24T11:48:57.286175",
     "status": "completed"
    },
    "tags": []
   },
   "outputs": [],
   "source": [
    "comp_dir = '../input/osic-pulmonary-fibrosis-progression'\n",
    "\n",
    "train_data = pd.read_csv(os.path.join(comp_dir,'train.csv'))\n",
    "sub = pd.read_csv(os.path.join(comp_dir,'sample_submission.csv'))\n",
    "test_data = pd.read_csv(os.path.join(comp_dir,'test.csv'))\n",
    "train_data.drop_duplicates(keep=False, inplace=True, subset=['Patient','Weeks'])"
   ]
  },
  {
   "cell_type": "code",
   "execution_count": 4,
   "metadata": {
    "execution": {
     "iopub.execute_input": "2020-09-24T11:48:57.481351Z",
     "iopub.status.busy": "2020-09-24T11:48:57.480437Z",
     "iopub.status.idle": "2020-09-24T11:48:57.510690Z",
     "shell.execute_reply": "2020-09-24T11:48:57.511872Z"
    },
    "papermill": {
     "duration": 0.088129,
     "end_time": "2020-09-24T11:48:57.512042",
     "exception": false,
     "start_time": "2020-09-24T11:48:57.423913",
     "status": "completed"
    },
    "tags": []
   },
   "outputs": [],
   "source": [
    "train_data_u = train_data\n",
    "train_data_u = train_data_u.drop_duplicates(subset=['Patient'])\n",
    "train_data_u = train_data_u.rename(columns={'Weeks':'Base_Week','FVC':'Base_FVC','Percent':'Base_Percent'})\n",
    "train_data_u['Typical_FVC'] = (train_data_u.Base_FVC.values/train_data_u.Base_Percent.values)*100\n",
    "train_data = train_data.merge(train_data_u.drop(['Age','Sex','SmokingStatus'],axis=1),on='Patient',how='left')"
   ]
  },
  {
   "cell_type": "code",
   "execution_count": 5,
   "metadata": {
    "execution": {
     "iopub.execute_input": "2020-09-24T11:48:57.612044Z",
     "iopub.status.busy": "2020-09-24T11:48:57.611116Z",
     "iopub.status.idle": "2020-09-24T11:48:57.620907Z",
     "shell.execute_reply": "2020-09-24T11:48:57.621582Z"
    },
    "papermill": {
     "duration": 0.062993,
     "end_time": "2020-09-24T11:48:57.621709",
     "exception": false,
     "start_time": "2020-09-24T11:48:57.558716",
     "status": "completed"
    },
    "tags": []
   },
   "outputs": [],
   "source": [
    "sub['Patient'] = sub['Patient_Week'].apply(lambda x:x.split('_')[0])\n",
    "sub['Weeks'] = sub['Patient_Week'].apply(lambda x: int(x.split('_')[-1]))\n",
    "sub = sub.drop(['Confidence'],axis=1)\n",
    "sub =  sub[['Patient','Weeks','Patient_Week']]"
   ]
  },
  {
   "cell_type": "code",
   "execution_count": 6,
   "metadata": {
    "execution": {
     "iopub.execute_input": "2020-09-24T11:48:57.689880Z",
     "iopub.status.busy": "2020-09-24T11:48:57.685425Z",
     "iopub.status.idle": "2020-09-24T11:48:57.692309Z",
     "shell.execute_reply": "2020-09-24T11:48:57.692789Z"
    },
    "papermill": {
     "duration": 0.04264,
     "end_time": "2020-09-24T11:48:57.692890",
     "exception": false,
     "start_time": "2020-09-24T11:48:57.650250",
     "status": "completed"
    },
    "tags": []
   },
   "outputs": [],
   "source": [
    "test_data = test_data.rename(columns={'Weeks':'Base_Week','FVC':'Base_FVC','Percent':'Base_Percent'})\n",
    "test_data['Typical_FVC'] = (test_data.Base_FVC.values/test_data.Base_Percent.values)*100\n",
    "sub = sub.merge(test_data, how='left', on='Patient')"
   ]
  },
  {
   "cell_type": "code",
   "execution_count": 7,
   "metadata": {
    "execution": {
     "iopub.execute_input": "2020-09-24T11:48:57.753740Z",
     "iopub.status.busy": "2020-09-24T11:48:57.751968Z",
     "iopub.status.idle": "2020-09-24T11:48:57.754390Z",
     "shell.execute_reply": "2020-09-24T11:48:57.754791Z"
    },
    "papermill": {
     "duration": 0.034974,
     "end_time": "2020-09-24T11:48:57.754888",
     "exception": false,
     "start_time": "2020-09-24T11:48:57.719914",
     "status": "completed"
    },
    "tags": []
   },
   "outputs": [],
   "source": [
    "train_data['Type'] = 'train'\n",
    "sub['Type'] = 'test'"
   ]
  },
  {
   "cell_type": "code",
   "execution_count": 8,
   "metadata": {
    "execution": {
     "iopub.execute_input": "2020-09-24T11:48:57.814635Z",
     "iopub.status.busy": "2020-09-24T11:48:57.813333Z",
     "iopub.status.idle": "2020-09-24T11:48:57.822276Z",
     "shell.execute_reply": "2020-09-24T11:48:57.822681Z"
    },
    "papermill": {
     "duration": 0.040406,
     "end_time": "2020-09-24T11:48:57.822791",
     "exception": false,
     "start_time": "2020-09-24T11:48:57.782385",
     "status": "completed"
    },
    "tags": []
   },
   "outputs": [],
   "source": [
    "data = train_data.append(sub)"
   ]
  },
  {
   "cell_type": "code",
   "execution_count": 9,
   "metadata": {
    "execution": {
     "iopub.execute_input": "2020-09-24T11:48:57.884561Z",
     "iopub.status.busy": "2020-09-24T11:48:57.883296Z",
     "iopub.status.idle": "2020-09-24T11:48:57.912351Z",
     "shell.execute_reply": "2020-09-24T11:48:57.912764Z"
    },
    "papermill": {
     "duration": 0.062436,
     "end_time": "2020-09-24T11:48:57.912863",
     "exception": false,
     "start_time": "2020-09-24T11:48:57.850427",
     "status": "completed"
    },
    "tags": []
   },
   "outputs": [
    {
     "data": {
      "text/html": [
       "<div>\n",
       "<style scoped>\n",
       "    .dataframe tbody tr th:only-of-type {\n",
       "        vertical-align: middle;\n",
       "    }\n",
       "\n",
       "    .dataframe tbody tr th {\n",
       "        vertical-align: top;\n",
       "    }\n",
       "\n",
       "    .dataframe thead th {\n",
       "        text-align: right;\n",
       "    }\n",
       "</style>\n",
       "<table border=\"1\" class=\"dataframe\">\n",
       "  <thead>\n",
       "    <tr style=\"text-align: right;\">\n",
       "      <th></th>\n",
       "      <th>Patient</th>\n",
       "      <th>Weeks</th>\n",
       "      <th>FVC</th>\n",
       "      <th>Percent</th>\n",
       "      <th>Age</th>\n",
       "      <th>Sex</th>\n",
       "      <th>SmokingStatus</th>\n",
       "      <th>Base_Week</th>\n",
       "      <th>Base_FVC</th>\n",
       "      <th>Base_Percent</th>\n",
       "      <th>Typical_FVC</th>\n",
       "      <th>Type</th>\n",
       "      <th>Patient_Week</th>\n",
       "    </tr>\n",
       "  </thead>\n",
       "  <tbody>\n",
       "    <tr>\n",
       "      <th>0</th>\n",
       "      <td>ID00007637202177411956430</td>\n",
       "      <td>-4</td>\n",
       "      <td>2315.0</td>\n",
       "      <td>58.253649</td>\n",
       "      <td>79</td>\n",
       "      <td>Male</td>\n",
       "      <td>Ex-smoker</td>\n",
       "      <td>-4</td>\n",
       "      <td>2315</td>\n",
       "      <td>58.253649</td>\n",
       "      <td>3974.0</td>\n",
       "      <td>train</td>\n",
       "      <td>NaN</td>\n",
       "    </tr>\n",
       "    <tr>\n",
       "      <th>1</th>\n",
       "      <td>ID00007637202177411956430</td>\n",
       "      <td>5</td>\n",
       "      <td>2214.0</td>\n",
       "      <td>55.712129</td>\n",
       "      <td>79</td>\n",
       "      <td>Male</td>\n",
       "      <td>Ex-smoker</td>\n",
       "      <td>-4</td>\n",
       "      <td>2315</td>\n",
       "      <td>58.253649</td>\n",
       "      <td>3974.0</td>\n",
       "      <td>train</td>\n",
       "      <td>NaN</td>\n",
       "    </tr>\n",
       "    <tr>\n",
       "      <th>2</th>\n",
       "      <td>ID00007637202177411956430</td>\n",
       "      <td>7</td>\n",
       "      <td>2061.0</td>\n",
       "      <td>51.862104</td>\n",
       "      <td>79</td>\n",
       "      <td>Male</td>\n",
       "      <td>Ex-smoker</td>\n",
       "      <td>-4</td>\n",
       "      <td>2315</td>\n",
       "      <td>58.253649</td>\n",
       "      <td>3974.0</td>\n",
       "      <td>train</td>\n",
       "      <td>NaN</td>\n",
       "    </tr>\n",
       "    <tr>\n",
       "      <th>3</th>\n",
       "      <td>ID00007637202177411956430</td>\n",
       "      <td>9</td>\n",
       "      <td>2144.0</td>\n",
       "      <td>53.950679</td>\n",
       "      <td>79</td>\n",
       "      <td>Male</td>\n",
       "      <td>Ex-smoker</td>\n",
       "      <td>-4</td>\n",
       "      <td>2315</td>\n",
       "      <td>58.253649</td>\n",
       "      <td>3974.0</td>\n",
       "      <td>train</td>\n",
       "      <td>NaN</td>\n",
       "    </tr>\n",
       "    <tr>\n",
       "      <th>4</th>\n",
       "      <td>ID00007637202177411956430</td>\n",
       "      <td>11</td>\n",
       "      <td>2069.0</td>\n",
       "      <td>52.063412</td>\n",
       "      <td>79</td>\n",
       "      <td>Male</td>\n",
       "      <td>Ex-smoker</td>\n",
       "      <td>-4</td>\n",
       "      <td>2315</td>\n",
       "      <td>58.253649</td>\n",
       "      <td>3974.0</td>\n",
       "      <td>train</td>\n",
       "      <td>NaN</td>\n",
       "    </tr>\n",
       "    <tr>\n",
       "      <th>...</th>\n",
       "      <td>...</td>\n",
       "      <td>...</td>\n",
       "      <td>...</td>\n",
       "      <td>...</td>\n",
       "      <td>...</td>\n",
       "      <td>...</td>\n",
       "      <td>...</td>\n",
       "      <td>...</td>\n",
       "      <td>...</td>\n",
       "      <td>...</td>\n",
       "      <td>...</td>\n",
       "      <td>...</td>\n",
       "      <td>...</td>\n",
       "    </tr>\n",
       "    <tr>\n",
       "      <th>725</th>\n",
       "      <td>ID00419637202311204720264</td>\n",
       "      <td>133</td>\n",
       "      <td>NaN</td>\n",
       "      <td>NaN</td>\n",
       "      <td>73</td>\n",
       "      <td>Male</td>\n",
       "      <td>Ex-smoker</td>\n",
       "      <td>6</td>\n",
       "      <td>3020</td>\n",
       "      <td>70.186855</td>\n",
       "      <td>4302.8</td>\n",
       "      <td>test</td>\n",
       "      <td>ID00419637202311204720264_133</td>\n",
       "    </tr>\n",
       "    <tr>\n",
       "      <th>726</th>\n",
       "      <td>ID00421637202311550012437</td>\n",
       "      <td>133</td>\n",
       "      <td>NaN</td>\n",
       "      <td>NaN</td>\n",
       "      <td>68</td>\n",
       "      <td>Male</td>\n",
       "      <td>Ex-smoker</td>\n",
       "      <td>15</td>\n",
       "      <td>2739</td>\n",
       "      <td>82.045291</td>\n",
       "      <td>3338.4</td>\n",
       "      <td>test</td>\n",
       "      <td>ID00421637202311550012437_133</td>\n",
       "    </tr>\n",
       "    <tr>\n",
       "      <th>727</th>\n",
       "      <td>ID00422637202311677017371</td>\n",
       "      <td>133</td>\n",
       "      <td>NaN</td>\n",
       "      <td>NaN</td>\n",
       "      <td>73</td>\n",
       "      <td>Male</td>\n",
       "      <td>Ex-smoker</td>\n",
       "      <td>6</td>\n",
       "      <td>1930</td>\n",
       "      <td>76.672493</td>\n",
       "      <td>2517.2</td>\n",
       "      <td>test</td>\n",
       "      <td>ID00422637202311677017371_133</td>\n",
       "    </tr>\n",
       "    <tr>\n",
       "      <th>728</th>\n",
       "      <td>ID00423637202312137826377</td>\n",
       "      <td>133</td>\n",
       "      <td>NaN</td>\n",
       "      <td>NaN</td>\n",
       "      <td>72</td>\n",
       "      <td>Male</td>\n",
       "      <td>Ex-smoker</td>\n",
       "      <td>17</td>\n",
       "      <td>3294</td>\n",
       "      <td>79.258903</td>\n",
       "      <td>4156.0</td>\n",
       "      <td>test</td>\n",
       "      <td>ID00423637202312137826377_133</td>\n",
       "    </tr>\n",
       "    <tr>\n",
       "      <th>729</th>\n",
       "      <td>ID00426637202313170790466</td>\n",
       "      <td>133</td>\n",
       "      <td>NaN</td>\n",
       "      <td>NaN</td>\n",
       "      <td>73</td>\n",
       "      <td>Male</td>\n",
       "      <td>Never smoked</td>\n",
       "      <td>0</td>\n",
       "      <td>2925</td>\n",
       "      <td>71.824968</td>\n",
       "      <td>4072.4</td>\n",
       "      <td>test</td>\n",
       "      <td>ID00426637202313170790466_133</td>\n",
       "    </tr>\n",
       "  </tbody>\n",
       "</table>\n",
       "<p>2265 rows × 13 columns</p>\n",
       "</div>"
      ],
      "text/plain": [
       "                       Patient  Weeks     FVC    Percent  Age   Sex  \\\n",
       "0    ID00007637202177411956430     -4  2315.0  58.253649   79  Male   \n",
       "1    ID00007637202177411956430      5  2214.0  55.712129   79  Male   \n",
       "2    ID00007637202177411956430      7  2061.0  51.862104   79  Male   \n",
       "3    ID00007637202177411956430      9  2144.0  53.950679   79  Male   \n",
       "4    ID00007637202177411956430     11  2069.0  52.063412   79  Male   \n",
       "..                         ...    ...     ...        ...  ...   ...   \n",
       "725  ID00419637202311204720264    133     NaN        NaN   73  Male   \n",
       "726  ID00421637202311550012437    133     NaN        NaN   68  Male   \n",
       "727  ID00422637202311677017371    133     NaN        NaN   73  Male   \n",
       "728  ID00423637202312137826377    133     NaN        NaN   72  Male   \n",
       "729  ID00426637202313170790466    133     NaN        NaN   73  Male   \n",
       "\n",
       "    SmokingStatus  Base_Week  Base_FVC  Base_Percent  Typical_FVC   Type  \\\n",
       "0       Ex-smoker         -4      2315     58.253649       3974.0  train   \n",
       "1       Ex-smoker         -4      2315     58.253649       3974.0  train   \n",
       "2       Ex-smoker         -4      2315     58.253649       3974.0  train   \n",
       "3       Ex-smoker         -4      2315     58.253649       3974.0  train   \n",
       "4       Ex-smoker         -4      2315     58.253649       3974.0  train   \n",
       "..            ...        ...       ...           ...          ...    ...   \n",
       "725     Ex-smoker          6      3020     70.186855       4302.8   test   \n",
       "726     Ex-smoker         15      2739     82.045291       3338.4   test   \n",
       "727     Ex-smoker          6      1930     76.672493       2517.2   test   \n",
       "728     Ex-smoker         17      3294     79.258903       4156.0   test   \n",
       "729  Never smoked          0      2925     71.824968       4072.4   test   \n",
       "\n",
       "                      Patient_Week  \n",
       "0                              NaN  \n",
       "1                              NaN  \n",
       "2                              NaN  \n",
       "3                              NaN  \n",
       "4                              NaN  \n",
       "..                             ...  \n",
       "725  ID00419637202311204720264_133  \n",
       "726  ID00421637202311550012437_133  \n",
       "727  ID00422637202311677017371_133  \n",
       "728  ID00423637202312137826377_133  \n",
       "729  ID00426637202313170790466_133  \n",
       "\n",
       "[2265 rows x 13 columns]"
      ]
     },
     "execution_count": 9,
     "metadata": {},
     "output_type": "execute_result"
    }
   ],
   "source": [
    "data"
   ]
  },
  {
   "cell_type": "code",
   "execution_count": 10,
   "metadata": {
    "execution": {
     "iopub.execute_input": "2020-09-24T11:48:57.978583Z",
     "iopub.status.busy": "2020-09-24T11:48:57.976736Z",
     "iopub.status.idle": "2020-09-24T11:48:57.979336Z",
     "shell.execute_reply": "2020-09-24T11:48:57.979757Z"
    },
    "papermill": {
     "duration": 0.03683,
     "end_time": "2020-09-24T11:48:57.979873",
     "exception": false,
     "start_time": "2020-09-24T11:48:57.943043",
     "status": "completed"
    },
    "tags": []
   },
   "outputs": [],
   "source": [
    "prediction_col = [\"FVC\"]\n",
    "Continuos_cols = [\"Weeks\",\"Base_Week\",\"Base_FVC\",\"Typical_FVC\",\"Age\",\"Percent\",\"Base_Percent\"]\n",
    "Categorical_cols = ['Sex','Smoking_status']"
   ]
  },
  {
   "cell_type": "code",
   "execution_count": 11,
   "metadata": {
    "execution": {
     "iopub.execute_input": "2020-09-24T11:48:58.043870Z",
     "iopub.status.busy": "2020-09-24T11:48:58.043201Z",
     "iopub.status.idle": "2020-09-24T11:48:58.045629Z",
     "shell.execute_reply": "2020-09-24T11:48:58.046006Z"
    },
    "papermill": {
     "duration": 0.037474,
     "end_time": "2020-09-24T11:48:58.046145",
     "exception": false,
     "start_time": "2020-09-24T11:48:58.008671",
     "status": "completed"
    },
    "tags": []
   },
   "outputs": [],
   "source": [
    "from sklearn.preprocessing import MinMaxScaler"
   ]
  },
  {
   "cell_type": "code",
   "execution_count": 12,
   "metadata": {
    "execution": {
     "iopub.execute_input": "2020-09-24T11:48:58.110779Z",
     "iopub.status.busy": "2020-09-24T11:48:58.109904Z",
     "iopub.status.idle": "2020-09-24T11:48:58.123954Z",
     "shell.execute_reply": "2020-09-24T11:48:58.123520Z"
    },
    "papermill": {
     "duration": 0.047036,
     "end_time": "2020-09-24T11:48:58.124033",
     "exception": false,
     "start_time": "2020-09-24T11:48:58.076997",
     "status": "completed"
    },
    "tags": []
   },
   "outputs": [],
   "source": [
    "scaler = MinMaxScaler()\n",
    "conti = scaler.fit_transform(data[Continuos_cols])\n",
    "data[Continuos_cols] = conti"
   ]
  },
  {
   "cell_type": "code",
   "execution_count": 13,
   "metadata": {
    "execution": {
     "iopub.execute_input": "2020-09-24T11:48:58.187964Z",
     "iopub.status.busy": "2020-09-24T11:48:58.187473Z",
     "iopub.status.idle": "2020-09-24T11:48:58.220531Z",
     "shell.execute_reply": "2020-09-24T11:48:58.221000Z"
    },
    "papermill": {
     "duration": 0.068585,
     "end_time": "2020-09-24T11:48:58.221131",
     "exception": false,
     "start_time": "2020-09-24T11:48:58.152546",
     "status": "completed"
    },
    "tags": []
   },
   "outputs": [
    {
     "name": "stdout",
     "output_type": "stream",
     "text": [
      "79.50710799558858\n",
      "98.51592571905941\n",
      "79.08661822268049\n",
      "78.86695444921291\n",
      "85.19475419165079\n"
     ]
    }
   ],
   "source": [
    "print(np.mean(train_data_u.query('SmokingStatus == \\'Never smoked\\'').Base_Percent.values))\n",
    "print(np.mean(train_data_u.query('SmokingStatus == \\'Currently smokes\\'').Base_Percent.values))\n",
    "print(np.mean(train_data_u.query('SmokingStatus == \\'Ex-smoker\\'').Base_Percent.values))\n",
    "print(np.mean(train_data_u.query('Sex == \\'Male\\'').Base_Percent.values))\n",
    "print(np.mean(train_data_u.query('Sex == \\'Female\\'').Base_Percent.values))"
   ]
  },
  {
   "cell_type": "code",
   "execution_count": 14,
   "metadata": {
    "execution": {
     "iopub.execute_input": "2020-09-24T11:48:58.312877Z",
     "iopub.status.busy": "2020-09-24T11:48:58.297540Z",
     "iopub.status.idle": "2020-09-24T11:48:58.323919Z",
     "shell.execute_reply": "2020-09-24T11:48:58.324310Z"
    },
    "papermill": {
     "duration": 0.07362,
     "end_time": "2020-09-24T11:48:58.324413",
     "exception": false,
     "start_time": "2020-09-24T11:48:58.250793",
     "status": "completed"
    },
    "tags": []
   },
   "outputs": [],
   "source": [
    "sex_m = np.zeros((len(data['Sex'].values),1))\n",
    "sex_f = np.zeros((len(data['Sex'].values),1))\n",
    "sm_es = np.zeros((len(data['Sex'].values),1))\n",
    "sm_ns = np.zeros((len(data['Sex'].values),1))\n",
    "sm_cs = np.zeros((len(data['Sex'].values),1))\n",
    "for i in range(len(data['Sex'].values)):\n",
    "    if data['Sex'].values[i] == 'Male':\n",
    "        sex_m[i] = 1\n",
    "    elif data['Sex'].values[i] == 'Female':\n",
    "        sex_f[i] = 1\n",
    "for i in range(len(data['SmokingStatus'].values)):\n",
    "    if data['SmokingStatus'].values[i] =='Ex-smoker':\n",
    "        sm_es[i] = 1\n",
    "    elif data['SmokingStatus'].values[i] =='Never smoked':\n",
    "        sm_ns[i] = 1\n",
    "    else:\n",
    "        sm_cs[i] = 1\n",
    "\n",
    "data['sex_m'] = sex_m\n",
    "data['sex_f'] = sex_f\n",
    "data['sm_es'] = sm_es\n",
    "data['sm_ns'] = sm_ns\n",
    "data['sm_cs'] = sm_cs\n"
   ]
  },
  {
   "cell_type": "markdown",
   "metadata": {
    "papermill": {
     "duration": 0.029348,
     "end_time": "2020-09-24T11:48:58.382907",
     "exception": false,
     "start_time": "2020-09-24T11:48:58.353559",
     "status": "completed"
    },
    "tags": []
   },
   "source": [
    "for i in range(len(data['Sex'].values)):\n",
    "    if data['Sex'].values[i] =='Male':\n",
    "        data['Sex'].values[i] = 0\n",
    "    else:\n",
    "        data['Sex'].values[i] = 1\n",
    "\n",
    "for i in range(len(data['SmokingStatus'].values)):\n",
    "    if data['SmokingStatus'].values[i] =='Ex-smoker':\n",
    "        data['SmokingStatus'].values[i] = 0\n",
    "    elif data['SmokingStatus'].values[i] =='Never smoked':\n",
    "        data['SmokingStatus'].values[i] = 1     \n",
    "    else:\n",
    "        data['SmokingStatus'].values[i] = 2 "
   ]
  },
  {
   "cell_type": "code",
   "execution_count": 15,
   "metadata": {
    "execution": {
     "iopub.execute_input": "2020-09-24T11:48:58.445206Z",
     "iopub.status.busy": "2020-09-24T11:48:58.444395Z",
     "iopub.status.idle": "2020-09-24T11:48:58.474197Z",
     "shell.execute_reply": "2020-09-24T11:48:58.473710Z"
    },
    "papermill": {
     "duration": 0.062497,
     "end_time": "2020-09-24T11:48:58.474289",
     "exception": false,
     "start_time": "2020-09-24T11:48:58.411792",
     "status": "completed"
    },
    "tags": []
   },
   "outputs": [
    {
     "data": {
      "text/html": [
       "<div>\n",
       "<style scoped>\n",
       "    .dataframe tbody tr th:only-of-type {\n",
       "        vertical-align: middle;\n",
       "    }\n",
       "\n",
       "    .dataframe tbody tr th {\n",
       "        vertical-align: top;\n",
       "    }\n",
       "\n",
       "    .dataframe thead th {\n",
       "        text-align: right;\n",
       "    }\n",
       "</style>\n",
       "<table border=\"1\" class=\"dataframe\">\n",
       "  <thead>\n",
       "    <tr style=\"text-align: right;\">\n",
       "      <th></th>\n",
       "      <th>Patient</th>\n",
       "      <th>Weeks</th>\n",
       "      <th>FVC</th>\n",
       "      <th>Percent</th>\n",
       "      <th>Age</th>\n",
       "      <th>Sex</th>\n",
       "      <th>SmokingStatus</th>\n",
       "      <th>Base_Week</th>\n",
       "      <th>Base_FVC</th>\n",
       "      <th>Base_Percent</th>\n",
       "      <th>Typical_FVC</th>\n",
       "      <th>Type</th>\n",
       "      <th>Patient_Week</th>\n",
       "      <th>sex_m</th>\n",
       "      <th>sex_f</th>\n",
       "      <th>sm_es</th>\n",
       "      <th>sm_ns</th>\n",
       "      <th>sm_cs</th>\n",
       "    </tr>\n",
       "  </thead>\n",
       "  <tbody>\n",
       "    <tr>\n",
       "      <th>0</th>\n",
       "      <td>ID00007637202177411956430</td>\n",
       "      <td>0.055172</td>\n",
       "      <td>2315.0</td>\n",
       "      <td>0.236393</td>\n",
       "      <td>0.769231</td>\n",
       "      <td>Male</td>\n",
       "      <td>Ex-smoker</td>\n",
       "      <td>0.011905</td>\n",
       "      <td>0.241456</td>\n",
       "      <td>0.135886</td>\n",
       "      <td>0.714466</td>\n",
       "      <td>train</td>\n",
       "      <td>NaN</td>\n",
       "      <td>1.0</td>\n",
       "      <td>0.0</td>\n",
       "      <td>1.0</td>\n",
       "      <td>0.0</td>\n",
       "      <td>0.0</td>\n",
       "    </tr>\n",
       "    <tr>\n",
       "      <th>1</th>\n",
       "      <td>ID00007637202177411956430</td>\n",
       "      <td>0.117241</td>\n",
       "      <td>2214.0</td>\n",
       "      <td>0.215941</td>\n",
       "      <td>0.769231</td>\n",
       "      <td>Male</td>\n",
       "      <td>Ex-smoker</td>\n",
       "      <td>0.011905</td>\n",
       "      <td>0.241456</td>\n",
       "      <td>0.135886</td>\n",
       "      <td>0.714466</td>\n",
       "      <td>train</td>\n",
       "      <td>NaN</td>\n",
       "      <td>1.0</td>\n",
       "      <td>0.0</td>\n",
       "      <td>1.0</td>\n",
       "      <td>0.0</td>\n",
       "      <td>0.0</td>\n",
       "    </tr>\n",
       "    <tr>\n",
       "      <th>2</th>\n",
       "      <td>ID00007637202177411956430</td>\n",
       "      <td>0.131034</td>\n",
       "      <td>2061.0</td>\n",
       "      <td>0.184960</td>\n",
       "      <td>0.769231</td>\n",
       "      <td>Male</td>\n",
       "      <td>Ex-smoker</td>\n",
       "      <td>0.011905</td>\n",
       "      <td>0.241456</td>\n",
       "      <td>0.135886</td>\n",
       "      <td>0.714466</td>\n",
       "      <td>train</td>\n",
       "      <td>NaN</td>\n",
       "      <td>1.0</td>\n",
       "      <td>0.0</td>\n",
       "      <td>1.0</td>\n",
       "      <td>0.0</td>\n",
       "      <td>0.0</td>\n",
       "    </tr>\n",
       "    <tr>\n",
       "      <th>3</th>\n",
       "      <td>ID00007637202177411956430</td>\n",
       "      <td>0.144828</td>\n",
       "      <td>2144.0</td>\n",
       "      <td>0.201767</td>\n",
       "      <td>0.769231</td>\n",
       "      <td>Male</td>\n",
       "      <td>Ex-smoker</td>\n",
       "      <td>0.011905</td>\n",
       "      <td>0.241456</td>\n",
       "      <td>0.135886</td>\n",
       "      <td>0.714466</td>\n",
       "      <td>train</td>\n",
       "      <td>NaN</td>\n",
       "      <td>1.0</td>\n",
       "      <td>0.0</td>\n",
       "      <td>1.0</td>\n",
       "      <td>0.0</td>\n",
       "      <td>0.0</td>\n",
       "    </tr>\n",
       "    <tr>\n",
       "      <th>4</th>\n",
       "      <td>ID00007637202177411956430</td>\n",
       "      <td>0.158621</td>\n",
       "      <td>2069.0</td>\n",
       "      <td>0.186580</td>\n",
       "      <td>0.769231</td>\n",
       "      <td>Male</td>\n",
       "      <td>Ex-smoker</td>\n",
       "      <td>0.011905</td>\n",
       "      <td>0.241456</td>\n",
       "      <td>0.135886</td>\n",
       "      <td>0.714466</td>\n",
       "      <td>train</td>\n",
       "      <td>NaN</td>\n",
       "      <td>1.0</td>\n",
       "      <td>0.0</td>\n",
       "      <td>1.0</td>\n",
       "      <td>0.0</td>\n",
       "      <td>0.0</td>\n",
       "    </tr>\n",
       "    <tr>\n",
       "      <th>...</th>\n",
       "      <td>...</td>\n",
       "      <td>...</td>\n",
       "      <td>...</td>\n",
       "      <td>...</td>\n",
       "      <td>...</td>\n",
       "      <td>...</td>\n",
       "      <td>...</td>\n",
       "      <td>...</td>\n",
       "      <td>...</td>\n",
       "      <td>...</td>\n",
       "      <td>...</td>\n",
       "      <td>...</td>\n",
       "      <td>...</td>\n",
       "      <td>...</td>\n",
       "      <td>...</td>\n",
       "      <td>...</td>\n",
       "      <td>...</td>\n",
       "      <td>...</td>\n",
       "    </tr>\n",
       "    <tr>\n",
       "      <th>725</th>\n",
       "      <td>ID00419637202311204720264</td>\n",
       "      <td>1.000000</td>\n",
       "      <td>NaN</td>\n",
       "      <td>NaN</td>\n",
       "      <td>0.615385</td>\n",
       "      <td>Male</td>\n",
       "      <td>Ex-smoker</td>\n",
       "      <td>0.130952</td>\n",
       "      <td>0.372400</td>\n",
       "      <td>0.244706</td>\n",
       "      <td>0.813374</td>\n",
       "      <td>test</td>\n",
       "      <td>ID00419637202311204720264_133</td>\n",
       "      <td>1.0</td>\n",
       "      <td>0.0</td>\n",
       "      <td>1.0</td>\n",
       "      <td>0.0</td>\n",
       "      <td>0.0</td>\n",
       "    </tr>\n",
       "    <tr>\n",
       "      <th>726</th>\n",
       "      <td>ID00421637202311550012437</td>\n",
       "      <td>1.000000</td>\n",
       "      <td>NaN</td>\n",
       "      <td>NaN</td>\n",
       "      <td>0.487179</td>\n",
       "      <td>Male</td>\n",
       "      <td>Ex-smoker</td>\n",
       "      <td>0.238095</td>\n",
       "      <td>0.320208</td>\n",
       "      <td>0.352843</td>\n",
       "      <td>0.523268</td>\n",
       "      <td>test</td>\n",
       "      <td>ID00421637202311550012437_133</td>\n",
       "      <td>1.0</td>\n",
       "      <td>0.0</td>\n",
       "      <td>1.0</td>\n",
       "      <td>0.0</td>\n",
       "      <td>0.0</td>\n",
       "    </tr>\n",
       "    <tr>\n",
       "      <th>727</th>\n",
       "      <td>ID00422637202311677017371</td>\n",
       "      <td>1.000000</td>\n",
       "      <td>NaN</td>\n",
       "      <td>NaN</td>\n",
       "      <td>0.615385</td>\n",
       "      <td>Male</td>\n",
       "      <td>Ex-smoker</td>\n",
       "      <td>0.130952</td>\n",
       "      <td>0.169948</td>\n",
       "      <td>0.303848</td>\n",
       "      <td>0.276239</td>\n",
       "      <td>test</td>\n",
       "      <td>ID00422637202311677017371_133</td>\n",
       "      <td>1.0</td>\n",
       "      <td>0.0</td>\n",
       "      <td>1.0</td>\n",
       "      <td>0.0</td>\n",
       "      <td>0.0</td>\n",
       "    </tr>\n",
       "    <tr>\n",
       "      <th>728</th>\n",
       "      <td>ID00423637202312137826377</td>\n",
       "      <td>1.000000</td>\n",
       "      <td>NaN</td>\n",
       "      <td>NaN</td>\n",
       "      <td>0.589744</td>\n",
       "      <td>Male</td>\n",
       "      <td>Ex-smoker</td>\n",
       "      <td>0.261905</td>\n",
       "      <td>0.423291</td>\n",
       "      <td>0.327434</td>\n",
       "      <td>0.769215</td>\n",
       "      <td>test</td>\n",
       "      <td>ID00423637202312137826377_133</td>\n",
       "      <td>1.0</td>\n",
       "      <td>0.0</td>\n",
       "      <td>1.0</td>\n",
       "      <td>0.0</td>\n",
       "      <td>0.0</td>\n",
       "    </tr>\n",
       "    <tr>\n",
       "      <th>729</th>\n",
       "      <td>ID00426637202313170790466</td>\n",
       "      <td>1.000000</td>\n",
       "      <td>NaN</td>\n",
       "      <td>NaN</td>\n",
       "      <td>0.615385</td>\n",
       "      <td>Male</td>\n",
       "      <td>Never smoked</td>\n",
       "      <td>0.059524</td>\n",
       "      <td>0.354755</td>\n",
       "      <td>0.259644</td>\n",
       "      <td>0.744066</td>\n",
       "      <td>test</td>\n",
       "      <td>ID00426637202313170790466_133</td>\n",
       "      <td>1.0</td>\n",
       "      <td>0.0</td>\n",
       "      <td>0.0</td>\n",
       "      <td>1.0</td>\n",
       "      <td>0.0</td>\n",
       "    </tr>\n",
       "  </tbody>\n",
       "</table>\n",
       "<p>2265 rows × 18 columns</p>\n",
       "</div>"
      ],
      "text/plain": [
       "                       Patient     Weeks     FVC   Percent       Age   Sex  \\\n",
       "0    ID00007637202177411956430  0.055172  2315.0  0.236393  0.769231  Male   \n",
       "1    ID00007637202177411956430  0.117241  2214.0  0.215941  0.769231  Male   \n",
       "2    ID00007637202177411956430  0.131034  2061.0  0.184960  0.769231  Male   \n",
       "3    ID00007637202177411956430  0.144828  2144.0  0.201767  0.769231  Male   \n",
       "4    ID00007637202177411956430  0.158621  2069.0  0.186580  0.769231  Male   \n",
       "..                         ...       ...     ...       ...       ...   ...   \n",
       "725  ID00419637202311204720264  1.000000     NaN       NaN  0.615385  Male   \n",
       "726  ID00421637202311550012437  1.000000     NaN       NaN  0.487179  Male   \n",
       "727  ID00422637202311677017371  1.000000     NaN       NaN  0.615385  Male   \n",
       "728  ID00423637202312137826377  1.000000     NaN       NaN  0.589744  Male   \n",
       "729  ID00426637202313170790466  1.000000     NaN       NaN  0.615385  Male   \n",
       "\n",
       "    SmokingStatus  Base_Week  Base_FVC  Base_Percent  Typical_FVC   Type  \\\n",
       "0       Ex-smoker   0.011905  0.241456      0.135886     0.714466  train   \n",
       "1       Ex-smoker   0.011905  0.241456      0.135886     0.714466  train   \n",
       "2       Ex-smoker   0.011905  0.241456      0.135886     0.714466  train   \n",
       "3       Ex-smoker   0.011905  0.241456      0.135886     0.714466  train   \n",
       "4       Ex-smoker   0.011905  0.241456      0.135886     0.714466  train   \n",
       "..            ...        ...       ...           ...          ...    ...   \n",
       "725     Ex-smoker   0.130952  0.372400      0.244706     0.813374   test   \n",
       "726     Ex-smoker   0.238095  0.320208      0.352843     0.523268   test   \n",
       "727     Ex-smoker   0.130952  0.169948      0.303848     0.276239   test   \n",
       "728     Ex-smoker   0.261905  0.423291      0.327434     0.769215   test   \n",
       "729  Never smoked   0.059524  0.354755      0.259644     0.744066   test   \n",
       "\n",
       "                      Patient_Week  sex_m  sex_f  sm_es  sm_ns  sm_cs  \n",
       "0                              NaN    1.0    0.0    1.0    0.0    0.0  \n",
       "1                              NaN    1.0    0.0    1.0    0.0    0.0  \n",
       "2                              NaN    1.0    0.0    1.0    0.0    0.0  \n",
       "3                              NaN    1.0    0.0    1.0    0.0    0.0  \n",
       "4                              NaN    1.0    0.0    1.0    0.0    0.0  \n",
       "..                             ...    ...    ...    ...    ...    ...  \n",
       "725  ID00419637202311204720264_133    1.0    0.0    1.0    0.0    0.0  \n",
       "726  ID00421637202311550012437_133    1.0    0.0    1.0    0.0    0.0  \n",
       "727  ID00422637202311677017371_133    1.0    0.0    1.0    0.0    0.0  \n",
       "728  ID00423637202312137826377_133    1.0    0.0    1.0    0.0    0.0  \n",
       "729  ID00426637202313170790466_133    1.0    0.0    0.0    1.0    0.0  \n",
       "\n",
       "[2265 rows x 18 columns]"
      ]
     },
     "execution_count": 15,
     "metadata": {},
     "output_type": "execute_result"
    }
   ],
   "source": [
    "data"
   ]
  },
  {
   "cell_type": "code",
   "execution_count": 16,
   "metadata": {
    "execution": {
     "iopub.execute_input": "2020-09-24T11:48:58.541818Z",
     "iopub.status.busy": "2020-09-24T11:48:58.541010Z",
     "iopub.status.idle": "2020-09-24T11:48:58.543754Z",
     "shell.execute_reply": "2020-09-24T11:48:58.544236Z"
    },
    "papermill": {
     "duration": 0.038475,
     "end_time": "2020-09-24T11:48:58.544344",
     "exception": false,
     "start_time": "2020-09-24T11:48:58.505869",
     "status": "completed"
    },
    "tags": []
   },
   "outputs": [],
   "source": [
    "x_cols = ['Weeks','Base_Week','Base_FVC','Age','sex_m','sex_f','sm_es','sm_ns','sm_cs']"
   ]
  },
  {
   "cell_type": "code",
   "execution_count": 17,
   "metadata": {
    "execution": {
     "iopub.execute_input": "2020-09-24T11:48:58.615221Z",
     "iopub.status.busy": "2020-09-24T11:48:58.614431Z",
     "iopub.status.idle": "2020-09-24T11:48:58.622778Z",
     "shell.execute_reply": "2020-09-24T11:48:58.622276Z"
    },
    "papermill": {
     "duration": 0.046367,
     "end_time": "2020-09-24T11:48:58.622859",
     "exception": false,
     "start_time": "2020-09-24T11:48:58.576492",
     "status": "completed"
    },
    "tags": []
   },
   "outputs": [],
   "source": [
    "x_train = data[x_cols].loc[data['Type'] == \"train\"].values.astype(np.float)\n",
    "y_train = data[prediction_col].loc[data['Type'] == \"train\"].values.astype(np.float)\n",
    "x_test = data[x_cols].loc[data['Type'] == \"test\"].values.astype(np.float)"
   ]
  },
  {
   "cell_type": "code",
   "execution_count": 18,
   "metadata": {
    "execution": {
     "iopub.execute_input": "2020-09-24T11:48:58.690511Z",
     "iopub.status.busy": "2020-09-24T11:48:58.689737Z",
     "iopub.status.idle": "2020-09-24T11:48:58.692580Z",
     "shell.execute_reply": "2020-09-24T11:48:58.692091Z"
    },
    "papermill": {
     "duration": 0.038778,
     "end_time": "2020-09-24T11:48:58.692665",
     "exception": false,
     "start_time": "2020-09-24T11:48:58.653887",
     "status": "completed"
    },
    "tags": []
   },
   "outputs": [],
   "source": [
    "x_train = x_train.astype(np.float32)\n",
    "y_train = y_train.astype(np.float32)\n",
    "x_test = x_test.astype(np.float32)"
   ]
  },
  {
   "cell_type": "code",
   "execution_count": 19,
   "metadata": {
    "execution": {
     "iopub.execute_input": "2020-09-24T11:48:58.759941Z",
     "iopub.status.busy": "2020-09-24T11:48:58.759157Z",
     "iopub.status.idle": "2020-09-24T11:48:58.762434Z",
     "shell.execute_reply": "2020-09-24T11:48:58.762871Z"
    },
    "papermill": {
     "duration": 0.039203,
     "end_time": "2020-09-24T11:48:58.762976",
     "exception": false,
     "start_time": "2020-09-24T11:48:58.723773",
     "status": "completed"
    },
    "tags": []
   },
   "outputs": [
    {
     "data": {
      "text/plain": [
       "((1535, 9), (1535, 1), (730, 9))"
      ]
     },
     "execution_count": 19,
     "metadata": {},
     "output_type": "execute_result"
    }
   ],
   "source": [
    "x_train.shape,y_train.shape,x_test.shape"
   ]
  },
  {
   "cell_type": "code",
   "execution_count": 20,
   "metadata": {
    "execution": {
     "iopub.execute_input": "2020-09-24T11:48:58.832961Z",
     "iopub.status.busy": "2020-09-24T11:48:58.831998Z",
     "iopub.status.idle": "2020-09-24T11:48:58.835347Z",
     "shell.execute_reply": "2020-09-24T11:48:58.835852Z"
    },
    "papermill": {
     "duration": 0.040522,
     "end_time": "2020-09-24T11:48:58.835950",
     "exception": false,
     "start_time": "2020-09-24T11:48:58.795428",
     "status": "completed"
    },
    "tags": []
   },
   "outputs": [
    {
     "data": {
      "text/plain": [
       "numpy.float32"
      ]
     },
     "execution_count": 20,
     "metadata": {},
     "output_type": "execute_result"
    }
   ],
   "source": [
    "type(x_train[0][3])"
   ]
  },
  {
   "cell_type": "code",
   "execution_count": 21,
   "metadata": {
    "execution": {
     "iopub.execute_input": "2020-09-24T11:48:58.902831Z",
     "iopub.status.busy": "2020-09-24T11:48:58.902127Z",
     "iopub.status.idle": "2020-09-24T11:48:58.905618Z",
     "shell.execute_reply": "2020-09-24T11:48:58.905217Z"
    },
    "papermill": {
     "duration": 0.038599,
     "end_time": "2020-09-24T11:48:58.905703",
     "exception": false,
     "start_time": "2020-09-24T11:48:58.867104",
     "status": "completed"
    },
    "tags": []
   },
   "outputs": [
    {
     "data": {
      "text/plain": [
       "(numpy.ndarray, numpy.ndarray, numpy.ndarray)"
      ]
     },
     "execution_count": 21,
     "metadata": {},
     "output_type": "execute_result"
    }
   ],
   "source": [
    "type(x_train),type(y_train),type(x_test)"
   ]
  },
  {
   "cell_type": "code",
   "execution_count": 22,
   "metadata": {
    "execution": {
     "iopub.execute_input": "2020-09-24T11:48:58.987516Z",
     "iopub.status.busy": "2020-09-24T11:48:58.986699Z",
     "iopub.status.idle": "2020-09-24T11:48:59.002997Z",
     "shell.execute_reply": "2020-09-24T11:48:59.002514Z"
    },
    "papermill": {
     "duration": 0.066007,
     "end_time": "2020-09-24T11:48:59.003112",
     "exception": false,
     "start_time": "2020-09-24T11:48:58.937105",
     "status": "completed"
    },
    "tags": []
   },
   "outputs": [
    {
     "data": {
      "text/html": [
       "<div>\n",
       "<style scoped>\n",
       "    .dataframe tbody tr th:only-of-type {\n",
       "        vertical-align: middle;\n",
       "    }\n",
       "\n",
       "    .dataframe tbody tr th {\n",
       "        vertical-align: top;\n",
       "    }\n",
       "\n",
       "    .dataframe thead th {\n",
       "        text-align: right;\n",
       "    }\n",
       "</style>\n",
       "<table border=\"1\" class=\"dataframe\">\n",
       "  <thead>\n",
       "    <tr style=\"text-align: right;\">\n",
       "      <th></th>\n",
       "      <th>Patient</th>\n",
       "      <th>Weeks</th>\n",
       "      <th>FVC</th>\n",
       "      <th>Percent</th>\n",
       "      <th>Age</th>\n",
       "      <th>Sex</th>\n",
       "      <th>SmokingStatus</th>\n",
       "      <th>Base_Week</th>\n",
       "      <th>Base_FVC</th>\n",
       "      <th>Base_Percent</th>\n",
       "      <th>Typical_FVC</th>\n",
       "      <th>Type</th>\n",
       "      <th>Patient_Week</th>\n",
       "      <th>sex_m</th>\n",
       "      <th>sex_f</th>\n",
       "      <th>sm_es</th>\n",
       "      <th>sm_ns</th>\n",
       "      <th>sm_cs</th>\n",
       "    </tr>\n",
       "  </thead>\n",
       "  <tbody>\n",
       "    <tr>\n",
       "      <th>0</th>\n",
       "      <td>ID00007637202177411956430</td>\n",
       "      <td>0.055172</td>\n",
       "      <td>2315.0</td>\n",
       "      <td>0.236393</td>\n",
       "      <td>0.769231</td>\n",
       "      <td>Male</td>\n",
       "      <td>Ex-smoker</td>\n",
       "      <td>0.011905</td>\n",
       "      <td>0.241456</td>\n",
       "      <td>0.135886</td>\n",
       "      <td>0.714466</td>\n",
       "      <td>train</td>\n",
       "      <td>NaN</td>\n",
       "      <td>1.0</td>\n",
       "      <td>0.0</td>\n",
       "      <td>1.0</td>\n",
       "      <td>0.0</td>\n",
       "      <td>0.0</td>\n",
       "    </tr>\n",
       "    <tr>\n",
       "      <th>1</th>\n",
       "      <td>ID00007637202177411956430</td>\n",
       "      <td>0.117241</td>\n",
       "      <td>2214.0</td>\n",
       "      <td>0.215941</td>\n",
       "      <td>0.769231</td>\n",
       "      <td>Male</td>\n",
       "      <td>Ex-smoker</td>\n",
       "      <td>0.011905</td>\n",
       "      <td>0.241456</td>\n",
       "      <td>0.135886</td>\n",
       "      <td>0.714466</td>\n",
       "      <td>train</td>\n",
       "      <td>NaN</td>\n",
       "      <td>1.0</td>\n",
       "      <td>0.0</td>\n",
       "      <td>1.0</td>\n",
       "      <td>0.0</td>\n",
       "      <td>0.0</td>\n",
       "    </tr>\n",
       "    <tr>\n",
       "      <th>2</th>\n",
       "      <td>ID00007637202177411956430</td>\n",
       "      <td>0.131034</td>\n",
       "      <td>2061.0</td>\n",
       "      <td>0.184960</td>\n",
       "      <td>0.769231</td>\n",
       "      <td>Male</td>\n",
       "      <td>Ex-smoker</td>\n",
       "      <td>0.011905</td>\n",
       "      <td>0.241456</td>\n",
       "      <td>0.135886</td>\n",
       "      <td>0.714466</td>\n",
       "      <td>train</td>\n",
       "      <td>NaN</td>\n",
       "      <td>1.0</td>\n",
       "      <td>0.0</td>\n",
       "      <td>1.0</td>\n",
       "      <td>0.0</td>\n",
       "      <td>0.0</td>\n",
       "    </tr>\n",
       "    <tr>\n",
       "      <th>3</th>\n",
       "      <td>ID00007637202177411956430</td>\n",
       "      <td>0.144828</td>\n",
       "      <td>2144.0</td>\n",
       "      <td>0.201767</td>\n",
       "      <td>0.769231</td>\n",
       "      <td>Male</td>\n",
       "      <td>Ex-smoker</td>\n",
       "      <td>0.011905</td>\n",
       "      <td>0.241456</td>\n",
       "      <td>0.135886</td>\n",
       "      <td>0.714466</td>\n",
       "      <td>train</td>\n",
       "      <td>NaN</td>\n",
       "      <td>1.0</td>\n",
       "      <td>0.0</td>\n",
       "      <td>1.0</td>\n",
       "      <td>0.0</td>\n",
       "      <td>0.0</td>\n",
       "    </tr>\n",
       "    <tr>\n",
       "      <th>4</th>\n",
       "      <td>ID00007637202177411956430</td>\n",
       "      <td>0.158621</td>\n",
       "      <td>2069.0</td>\n",
       "      <td>0.186580</td>\n",
       "      <td>0.769231</td>\n",
       "      <td>Male</td>\n",
       "      <td>Ex-smoker</td>\n",
       "      <td>0.011905</td>\n",
       "      <td>0.241456</td>\n",
       "      <td>0.135886</td>\n",
       "      <td>0.714466</td>\n",
       "      <td>train</td>\n",
       "      <td>NaN</td>\n",
       "      <td>1.0</td>\n",
       "      <td>0.0</td>\n",
       "      <td>1.0</td>\n",
       "      <td>0.0</td>\n",
       "      <td>0.0</td>\n",
       "    </tr>\n",
       "    <tr>\n",
       "      <th>...</th>\n",
       "      <td>...</td>\n",
       "      <td>...</td>\n",
       "      <td>...</td>\n",
       "      <td>...</td>\n",
       "      <td>...</td>\n",
       "      <td>...</td>\n",
       "      <td>...</td>\n",
       "      <td>...</td>\n",
       "      <td>...</td>\n",
       "      <td>...</td>\n",
       "      <td>...</td>\n",
       "      <td>...</td>\n",
       "      <td>...</td>\n",
       "      <td>...</td>\n",
       "      <td>...</td>\n",
       "      <td>...</td>\n",
       "      <td>...</td>\n",
       "      <td>...</td>\n",
       "    </tr>\n",
       "    <tr>\n",
       "      <th>725</th>\n",
       "      <td>ID00419637202311204720264</td>\n",
       "      <td>1.000000</td>\n",
       "      <td>NaN</td>\n",
       "      <td>NaN</td>\n",
       "      <td>0.615385</td>\n",
       "      <td>Male</td>\n",
       "      <td>Ex-smoker</td>\n",
       "      <td>0.130952</td>\n",
       "      <td>0.372400</td>\n",
       "      <td>0.244706</td>\n",
       "      <td>0.813374</td>\n",
       "      <td>test</td>\n",
       "      <td>ID00419637202311204720264_133</td>\n",
       "      <td>1.0</td>\n",
       "      <td>0.0</td>\n",
       "      <td>1.0</td>\n",
       "      <td>0.0</td>\n",
       "      <td>0.0</td>\n",
       "    </tr>\n",
       "    <tr>\n",
       "      <th>726</th>\n",
       "      <td>ID00421637202311550012437</td>\n",
       "      <td>1.000000</td>\n",
       "      <td>NaN</td>\n",
       "      <td>NaN</td>\n",
       "      <td>0.487179</td>\n",
       "      <td>Male</td>\n",
       "      <td>Ex-smoker</td>\n",
       "      <td>0.238095</td>\n",
       "      <td>0.320208</td>\n",
       "      <td>0.352843</td>\n",
       "      <td>0.523268</td>\n",
       "      <td>test</td>\n",
       "      <td>ID00421637202311550012437_133</td>\n",
       "      <td>1.0</td>\n",
       "      <td>0.0</td>\n",
       "      <td>1.0</td>\n",
       "      <td>0.0</td>\n",
       "      <td>0.0</td>\n",
       "    </tr>\n",
       "    <tr>\n",
       "      <th>727</th>\n",
       "      <td>ID00422637202311677017371</td>\n",
       "      <td>1.000000</td>\n",
       "      <td>NaN</td>\n",
       "      <td>NaN</td>\n",
       "      <td>0.615385</td>\n",
       "      <td>Male</td>\n",
       "      <td>Ex-smoker</td>\n",
       "      <td>0.130952</td>\n",
       "      <td>0.169948</td>\n",
       "      <td>0.303848</td>\n",
       "      <td>0.276239</td>\n",
       "      <td>test</td>\n",
       "      <td>ID00422637202311677017371_133</td>\n",
       "      <td>1.0</td>\n",
       "      <td>0.0</td>\n",
       "      <td>1.0</td>\n",
       "      <td>0.0</td>\n",
       "      <td>0.0</td>\n",
       "    </tr>\n",
       "    <tr>\n",
       "      <th>728</th>\n",
       "      <td>ID00423637202312137826377</td>\n",
       "      <td>1.000000</td>\n",
       "      <td>NaN</td>\n",
       "      <td>NaN</td>\n",
       "      <td>0.589744</td>\n",
       "      <td>Male</td>\n",
       "      <td>Ex-smoker</td>\n",
       "      <td>0.261905</td>\n",
       "      <td>0.423291</td>\n",
       "      <td>0.327434</td>\n",
       "      <td>0.769215</td>\n",
       "      <td>test</td>\n",
       "      <td>ID00423637202312137826377_133</td>\n",
       "      <td>1.0</td>\n",
       "      <td>0.0</td>\n",
       "      <td>1.0</td>\n",
       "      <td>0.0</td>\n",
       "      <td>0.0</td>\n",
       "    </tr>\n",
       "    <tr>\n",
       "      <th>729</th>\n",
       "      <td>ID00426637202313170790466</td>\n",
       "      <td>1.000000</td>\n",
       "      <td>NaN</td>\n",
       "      <td>NaN</td>\n",
       "      <td>0.615385</td>\n",
       "      <td>Male</td>\n",
       "      <td>Never smoked</td>\n",
       "      <td>0.059524</td>\n",
       "      <td>0.354755</td>\n",
       "      <td>0.259644</td>\n",
       "      <td>0.744066</td>\n",
       "      <td>test</td>\n",
       "      <td>ID00426637202313170790466_133</td>\n",
       "      <td>1.0</td>\n",
       "      <td>0.0</td>\n",
       "      <td>0.0</td>\n",
       "      <td>1.0</td>\n",
       "      <td>0.0</td>\n",
       "    </tr>\n",
       "  </tbody>\n",
       "</table>\n",
       "<p>2265 rows × 18 columns</p>\n",
       "</div>"
      ],
      "text/plain": [
       "                       Patient     Weeks     FVC   Percent       Age   Sex  \\\n",
       "0    ID00007637202177411956430  0.055172  2315.0  0.236393  0.769231  Male   \n",
       "1    ID00007637202177411956430  0.117241  2214.0  0.215941  0.769231  Male   \n",
       "2    ID00007637202177411956430  0.131034  2061.0  0.184960  0.769231  Male   \n",
       "3    ID00007637202177411956430  0.144828  2144.0  0.201767  0.769231  Male   \n",
       "4    ID00007637202177411956430  0.158621  2069.0  0.186580  0.769231  Male   \n",
       "..                         ...       ...     ...       ...       ...   ...   \n",
       "725  ID00419637202311204720264  1.000000     NaN       NaN  0.615385  Male   \n",
       "726  ID00421637202311550012437  1.000000     NaN       NaN  0.487179  Male   \n",
       "727  ID00422637202311677017371  1.000000     NaN       NaN  0.615385  Male   \n",
       "728  ID00423637202312137826377  1.000000     NaN       NaN  0.589744  Male   \n",
       "729  ID00426637202313170790466  1.000000     NaN       NaN  0.615385  Male   \n",
       "\n",
       "    SmokingStatus  Base_Week  Base_FVC  Base_Percent  Typical_FVC   Type  \\\n",
       "0       Ex-smoker   0.011905  0.241456      0.135886     0.714466  train   \n",
       "1       Ex-smoker   0.011905  0.241456      0.135886     0.714466  train   \n",
       "2       Ex-smoker   0.011905  0.241456      0.135886     0.714466  train   \n",
       "3       Ex-smoker   0.011905  0.241456      0.135886     0.714466  train   \n",
       "4       Ex-smoker   0.011905  0.241456      0.135886     0.714466  train   \n",
       "..            ...        ...       ...           ...          ...    ...   \n",
       "725     Ex-smoker   0.130952  0.372400      0.244706     0.813374   test   \n",
       "726     Ex-smoker   0.238095  0.320208      0.352843     0.523268   test   \n",
       "727     Ex-smoker   0.130952  0.169948      0.303848     0.276239   test   \n",
       "728     Ex-smoker   0.261905  0.423291      0.327434     0.769215   test   \n",
       "729  Never smoked   0.059524  0.354755      0.259644     0.744066   test   \n",
       "\n",
       "                      Patient_Week  sex_m  sex_f  sm_es  sm_ns  sm_cs  \n",
       "0                              NaN    1.0    0.0    1.0    0.0    0.0  \n",
       "1                              NaN    1.0    0.0    1.0    0.0    0.0  \n",
       "2                              NaN    1.0    0.0    1.0    0.0    0.0  \n",
       "3                              NaN    1.0    0.0    1.0    0.0    0.0  \n",
       "4                              NaN    1.0    0.0    1.0    0.0    0.0  \n",
       "..                             ...    ...    ...    ...    ...    ...  \n",
       "725  ID00419637202311204720264_133    1.0    0.0    1.0    0.0    0.0  \n",
       "726  ID00421637202311550012437_133    1.0    0.0    1.0    0.0    0.0  \n",
       "727  ID00422637202311677017371_133    1.0    0.0    1.0    0.0    0.0  \n",
       "728  ID00423637202312137826377_133    1.0    0.0    1.0    0.0    0.0  \n",
       "729  ID00426637202313170790466_133    1.0    0.0    0.0    1.0    0.0  \n",
       "\n",
       "[2265 rows x 18 columns]"
      ]
     },
     "execution_count": 22,
     "metadata": {},
     "output_type": "execute_result"
    }
   ],
   "source": [
    "data"
   ]
  },
  {
   "cell_type": "code",
   "execution_count": 23,
   "metadata": {
    "execution": {
     "iopub.execute_input": "2020-09-24T11:48:59.078586Z",
     "iopub.status.busy": "2020-09-24T11:48:59.077746Z",
     "iopub.status.idle": "2020-09-24T11:48:59.098008Z",
     "shell.execute_reply": "2020-09-24T11:48:59.098533Z"
    },
    "papermill": {
     "duration": 0.061795,
     "end_time": "2020-09-24T11:48:59.098635",
     "exception": false,
     "start_time": "2020-09-24T11:48:59.036840",
     "status": "completed"
    },
    "tags": []
   },
   "outputs": [],
   "source": [
    "class Data_Generator(tf.keras.utils.Sequence):\n",
    "    \n",
    "    def __init__(self,batch_size,patient_ids,tab_data,dim,target=None,train=True,augment=False):\n",
    "        self.batch_size = batch_size\n",
    "        self.image_ids = patient_ids\n",
    "        self.augment = augment\n",
    "        self.dim = dim\n",
    "        self.target = target\n",
    "        self.indices = range(len(self.image_ids))\n",
    "        self.train = train\n",
    "        self.tab_data = tab_data\n",
    "        #self.on_epoch_end()\n",
    "    \n",
    "    def getimage(self,image_id):\n",
    "        X1 = np.zeros((NUM_IMAGES,self.dim[1],self.dim[2], 1))\n",
    "        if self.train:\n",
    "            path = TRAIN_PATH\n",
    "        else:\n",
    "            path = TEST_PATH\n",
    "        im_num = len(os.listdir(os.path.join(path,image_id)))\n",
    "        if im_num < NUM_IMAGES+1:\n",
    "            for i,dcm_i in enumerate(os.listdir(os.path.join(path,image_id))):\n",
    "                try:\n",
    "                    im = pydicom.dcmread(os.path.join(TRAIN_PATH,f'{image_id}/{dcm_i}'))\n",
    "                    img = im.pixel_array/255\n",
    "                    img = cv2.resize(img, (self.dim[1],self.dim[2]))\n",
    "                    img = np.reshape(img,(IMAGE_DIM[1],IMAGE_DIM[2],1))\n",
    "                    X1[i,] = img\n",
    "                    if i>=NUM_IMAGES-1:\n",
    "                        break\n",
    "                except:\n",
    "                    continue\n",
    "        else:\n",
    "            val = (im_num - NUM_IMAGES)//2\n",
    "            dir_list = os.listdir(os.path.join(path,image_id))\n",
    "            dir_list.sort()\n",
    "            for i,dcm_i in enumerate(dir_list[val:]):\n",
    "                try:\n",
    "                    im = pydicom.dcmread(os.path.join(TRAIN_PATH,f'{image_id}/{dcm_i}'))\n",
    "                    img = im.pixel_array/255\n",
    "                    img = cv2.resize(img, (self.dim[1],self.dim[2]))\n",
    "                    img = np.reshape(img,(IMAGE_DIM[1],IMAGE_DIM[2],1))\n",
    "                    X1[i,] = img\n",
    "                    if i>=NUM_IMAGES-1:\n",
    "                        break\n",
    "                except:\n",
    "                    continue\n",
    "               \n",
    "        if self.augment == True:\n",
    "            img = self.ImageAugment(img)\n",
    "            return img\n",
    "        return X1\n",
    "    \n",
    "    def on_epoch_end(self):\n",
    "        return self.indices\n",
    "    \n",
    "    def getdata(self, image_id_list):\n",
    "        X = np.empty((self.batch_size,*self.dim, 1))\n",
    "        for i, im_id in enumerate(image_id_list):\n",
    "            #print(i)\n",
    "            X[i,] = self.getimage(im_id)\n",
    "        \n",
    "        return X\n",
    "    '''\n",
    "    def ImageAugment(self,image):\n",
    "        augmentor = ImageAugmentor(image,axis_point=[self.dim/2,self.dim/2])\n",
    "        augmentor.cutmix()\n",
    "        #augmentor.zoom()\n",
    "        augmentor.flip()\n",
    "        augmentor.rotate()\n",
    "        return augmentor.get_image()\n",
    "    ''' \n",
    "    \n",
    "    def __getitem__(self,index):\n",
    "        indices = self.indices[index*self.batch_size:(index+1)*self.batch_size]\n",
    "        \n",
    "        image_id_list = [self.image_ids[k] for k in indices]\n",
    "        tab_X = np.array([self.tab_data[k] for k in indices]).astype(np.float32)\n",
    "        X = self.getdata(image_id_list)\n",
    "        if self.train == True:\n",
    "            target_list = [self.target[k] for k in indices]\n",
    "            y = np.array(target_list).astype(np.float32)\n",
    "            return X,y\n",
    "        return X\n",
    "    \n",
    "    def __len__(self):\n",
    "        return int(np.floor(len(self.indices)/self.batch_size))\n",
    "    "
   ]
  },
  {
   "cell_type": "code",
   "execution_count": 24,
   "metadata": {
    "execution": {
     "iopub.execute_input": "2020-09-24T11:49:02.069846Z",
     "iopub.status.busy": "2020-09-24T11:48:59.170981Z",
     "iopub.status.idle": "2020-09-24T11:49:02.074381Z",
     "shell.execute_reply": "2020-09-24T11:49:02.075182Z"
    },
    "papermill": {
     "duration": 2.944062,
     "end_time": "2020-09-24T11:49:02.075331",
     "exception": false,
     "start_time": "2020-09-24T11:48:59.131269",
     "status": "completed"
    },
    "tags": []
   },
   "outputs": [],
   "source": [
    "C1, C2 = tf.constant(70, dtype='float32'), tf.constant(1000, dtype=\"float32\")\n",
    "#=============================#\n",
    "def score(y_true, y_pred):\n",
    "    tf.dtypes.cast(y_true, tf.float32)\n",
    "    tf.dtypes.cast(y_pred, tf.float32)\n",
    "    sigma = y_pred[:,2]-y_pred[:,0]\n",
    "    fvc_pred = y_pred[:,1]\n",
    "    #sigma_clip = sigma + C1\n",
    "    sigma_clip = tf.maximum(sigma, C1)\n",
    "    delta = tf.abs(y_true[:,0] - fvc_pred)\n",
    "    delta = tf.minimum(delta, C2)\n",
    "    sq2 = tf.sqrt( tf.dtypes.cast(2, dtype=tf.float32) )\n",
    "    metric = (delta / sigma_clip)*sq2 + tf.math.log(sigma_clip* sq2)\n",
    "    return K.mean(metric)\n",
    "#============================#\n",
    "def qloss(y_true, y_pred):\n",
    "    # Pinball loss for multiple quantiles\n",
    "    qs = [0.2,0.50,0.8]\n",
    "    q = tf.constant(np.array([qs]), dtype=tf.float32)\n",
    "    e = y_true - y_pred\n",
    "    v = tf.maximum(q*e,(q-1)*e)\n",
    "    return K.mean(v)\n",
    "#=============================#\n",
    "def mloss(_lambda):\n",
    "    def loss(y_true, y_pred):\n",
    "        return _lambda * qloss(y_true, y_pred) + (1 - _lambda)*score(y_true, y_pred)\n",
    "    return loss\n",
    "#================="
   ]
  },
  {
   "cell_type": "code",
   "execution_count": 25,
   "metadata": {
    "execution": {
     "iopub.execute_input": "2020-09-24T11:49:02.153080Z",
     "iopub.status.busy": "2020-09-24T11:49:02.152458Z",
     "iopub.status.idle": "2020-09-24T11:49:02.155871Z",
     "shell.execute_reply": "2020-09-24T11:49:02.155387Z"
    },
    "papermill": {
     "duration": 0.047657,
     "end_time": "2020-09-24T11:49:02.155960",
     "exception": false,
     "start_time": "2020-09-24T11:49:02.108303",
     "status": "completed"
    },
    "tags": []
   },
   "outputs": [],
   "source": [
    "def build_model_dense():\n",
    "    \n",
    "    inp = L.Input((9,))\n",
    "    x = L.Dense(128,activation ='relu',kernel_regularizer=R.l2(5e-4),name='dense')(inp)\n",
    "    x = L.Dense(128,activation ='relu',kernel_regularizer=R.l2(5e-4),name='dense_1')(x)\n",
    "    x = L.Dense(64,activation ='relu',kernel_regularizer=R.l2(5e-5),name='dense_2')(x)\n",
    "    o1 = L.Dense(3,activation = 'linear',name='dense_3')(x)\n",
    "    o2 = L.Dense(3,activation = 'relu',name='dense_4')(x)\n",
    "    pred1 = L.Lambda(lambda x: (x[0]+(tf.cumsum(x[1],axis=1))))([o1,o2])    \n",
    "    \n",
    "    \n",
    "    model = M.Model(inputs=inp,outputs=pred1)\n",
    "    \n",
    "    model.compile(loss=mloss(0.85), optimizer=tf.keras.optimizers.Adam(learning_rate=1e-3), metrics=[score])\n",
    "    \n",
    "    return model"
   ]
  },
  {
   "cell_type": "code",
   "execution_count": 26,
   "metadata": {
    "execution": {
     "iopub.execute_input": "2020-09-24T11:49:02.224571Z",
     "iopub.status.busy": "2020-09-24T11:49:02.223918Z",
     "iopub.status.idle": "2020-09-24T11:49:02.614422Z",
     "shell.execute_reply": "2020-09-24T11:49:02.613704Z"
    },
    "papermill": {
     "duration": 0.4262,
     "end_time": "2020-09-24T11:49:02.614542",
     "exception": false,
     "start_time": "2020-09-24T11:49:02.188342",
     "status": "completed"
    },
    "tags": []
   },
   "outputs": [
    {
     "name": "stdout",
     "output_type": "stream",
     "text": [
      "Model: \"model\"\n",
      "__________________________________________________________________________________________________\n",
      "Layer (type)                    Output Shape         Param #     Connected to                     \n",
      "==================================================================================================\n",
      "input_1 (InputLayer)            [(None, 9)]          0                                            \n",
      "__________________________________________________________________________________________________\n",
      "dense (Dense)                   (None, 128)          1280        input_1[0][0]                    \n",
      "__________________________________________________________________________________________________\n",
      "dense_1 (Dense)                 (None, 128)          16512       dense[0][0]                      \n",
      "__________________________________________________________________________________________________\n",
      "dense_2 (Dense)                 (None, 64)           8256        dense_1[0][0]                    \n",
      "__________________________________________________________________________________________________\n",
      "dense_3 (Dense)                 (None, 3)            195         dense_2[0][0]                    \n",
      "__________________________________________________________________________________________________\n",
      "dense_4 (Dense)                 (None, 3)            195         dense_2[0][0]                    \n",
      "__________________________________________________________________________________________________\n",
      "lambda (Lambda)                 (None, 3)            0           dense_3[0][0]                    \n",
      "                                                                 dense_4[0][0]                    \n",
      "==================================================================================================\n",
      "Total params: 26,438\n",
      "Trainable params: 26,438\n",
      "Non-trainable params: 0\n",
      "__________________________________________________________________________________________________\n"
     ]
    }
   ],
   "source": [
    "dense_model = build_model_dense()\n",
    "dense_model.summary()"
   ]
  },
  {
   "cell_type": "code",
   "execution_count": 27,
   "metadata": {
    "execution": {
     "iopub.execute_input": "2020-09-24T11:49:02.688872Z",
     "iopub.status.busy": "2020-09-24T11:49:02.688344Z",
     "iopub.status.idle": "2020-09-24T11:49:02.691771Z",
     "shell.execute_reply": "2020-09-24T11:49:02.692239Z"
    },
    "papermill": {
     "duration": 0.044022,
     "end_time": "2020-09-24T11:49:02.692389",
     "exception": false,
     "start_time": "2020-09-24T11:49:02.648367",
     "status": "completed"
    },
    "tags": []
   },
   "outputs": [],
   "source": [
    "from sklearn.model_selection import KFold\n",
    "folds = 5\n",
    "KF = KFold(n_splits=folds,shuffle=True,random_state=24)"
   ]
  },
  {
   "cell_type": "code",
   "execution_count": 28,
   "metadata": {
    "execution": {
     "iopub.execute_input": "2020-09-24T11:49:02.765321Z",
     "iopub.status.busy": "2020-09-24T11:49:02.764548Z",
     "iopub.status.idle": "2020-09-24T11:50:44.184639Z",
     "shell.execute_reply": "2020-09-24T11:50:44.183989Z"
    },
    "papermill": {
     "duration": 101.4594,
     "end_time": "2020-09-24T11:50:44.184779",
     "exception": false,
     "start_time": "2020-09-24T11:49:02.725379",
     "status": "completed"
    },
    "tags": []
   },
   "outputs": [
    {
     "name": "stdout",
     "output_type": "stream",
     "text": [
      "############## FOLD 1 ###############\n",
      "train [49.614013671875, 6.590298652648926]\n",
      "val [60.742855072021484, 6.738798141479492]\n",
      "############## FOLD 2 ###############\n",
      "train [50.720333099365234, 6.607256889343262]\n",
      "val [53.111480712890625, 6.705302715301514]\n",
      "############## FOLD 3 ###############\n",
      "train [50.50727081298828, 6.58261251449585]\n",
      "val [47.63249588012695, 6.572506904602051]\n",
      "############## FOLD 4 ###############\n",
      "train [50.502010345458984, 6.597799777984619]\n",
      "val [50.683353424072266, 6.612125873565674]\n",
      "############## FOLD 5 ###############\n",
      "train [50.08330535888672, 6.582428932189941]\n",
      "val [45.92015838623047, 6.50098991394043]\n",
      "CPU times: user 1min 46s, sys: 6.08 s, total: 1min 52s\n",
      "Wall time: 1min 41s\n"
     ]
    }
   ],
   "source": [
    "%%time\n",
    "counter=0\n",
    "stopper = tf.keras.callbacks.EarlyStopping(monitor='loss',mode='min',patience=100,restore_best_weights=True)\n",
    "reduce_lr = tf.keras.callbacks.ReduceLROnPlateau(monitor='loss', factor=0.1,patience=50, min_lr=1e-3)\n",
    "for tr_idx, val_idx in KF.split(x_train):\n",
    "    counter+=1\n",
    "    print(f'############## FOLD {counter} ###############')\n",
    "    history = dense_model.fit(x_train[tr_idx],y_train[tr_idx],epochs=500,batch_size = 256,verbose=0,validation_data=(x_train[val_idx],y_train[val_idx]))\n",
    "    print(\"train\", dense_model.evaluate(x_train[tr_idx], y_train[tr_idx], verbose=0, batch_size=256))\n",
    "    print(\"val\", dense_model.evaluate(x_train[val_idx], y_train[val_idx], verbose=0, batch_size=256))"
   ]
  },
  {
   "cell_type": "code",
   "execution_count": 29,
   "metadata": {
    "execution": {
     "iopub.execute_input": "2020-09-24T11:50:44.266404Z",
     "iopub.status.busy": "2020-09-24T11:50:44.265797Z",
     "iopub.status.idle": "2020-09-24T11:50:44.305187Z",
     "shell.execute_reply": "2020-09-24T11:50:44.305891Z"
    },
    "papermill": {
     "duration": 0.085707,
     "end_time": "2020-09-24T11:50:44.306085",
     "exception": false,
     "start_time": "2020-09-24T11:50:44.220378",
     "status": "completed"
    },
    "tags": []
   },
   "outputs": [
    {
     "name": "stdout",
     "output_type": "stream",
     "text": [
      "Model: \"model\"\n",
      "__________________________________________________________________________________________________\n",
      "Layer (type)                    Output Shape         Param #     Connected to                     \n",
      "==================================================================================================\n",
      "input_1 (InputLayer)            [(None, 9)]          0                                            \n",
      "__________________________________________________________________________________________________\n",
      "dense (Dense)                   (None, 128)          1280        input_1[0][0]                    \n",
      "__________________________________________________________________________________________________\n",
      "dense_1 (Dense)                 (None, 128)          16512       dense[0][0]                      \n",
      "__________________________________________________________________________________________________\n",
      "dense_2 (Dense)                 (None, 64)           8256        dense_1[0][0]                    \n",
      "__________________________________________________________________________________________________\n",
      "dense_3 (Dense)                 (None, 3)            195         dense_2[0][0]                    \n",
      "__________________________________________________________________________________________________\n",
      "dense_4 (Dense)                 (None, 3)            195         dense_2[0][0]                    \n",
      "__________________________________________________________________________________________________\n",
      "lambda (Lambda)                 (None, 3)            0           dense_3[0][0]                    \n",
      "                                                                 dense_4[0][0]                    \n",
      "==================================================================================================\n",
      "Total params: 26,438\n",
      "Trainable params: 26,438\n",
      "Non-trainable params: 0\n",
      "__________________________________________________________________________________________________\n"
     ]
    }
   ],
   "source": [
    "dense_model.save('dense_model.h5')\n",
    "dense_model.summary()"
   ]
  },
  {
   "cell_type": "code",
   "execution_count": 30,
   "metadata": {
    "execution": {
     "iopub.execute_input": "2020-09-24T11:50:44.396039Z",
     "iopub.status.busy": "2020-09-24T11:50:44.395418Z",
     "iopub.status.idle": "2020-09-24T11:50:44.398727Z",
     "shell.execute_reply": "2020-09-24T11:50:44.398320Z"
    },
    "papermill": {
     "duration": 0.055698,
     "end_time": "2020-09-24T11:50:44.398818",
     "exception": false,
     "start_time": "2020-09-24T11:50:44.343120",
     "status": "completed"
    },
    "tags": []
   },
   "outputs": [],
   "source": [
    "def build_model():\n",
    "        \n",
    "    inp2 = L.Input(shape=(*IMAGE_DIM,1,),name='conv_input')\n",
    "    \n",
    "    x = L.Conv3D(64,5,activation='relu')(inp2)\n",
    "    \n",
    "    x = L.Conv3D(64,5,activation='relu')(x)\n",
    "    \n",
    "    x = L.BatchNormalization()(x)\n",
    "    \n",
    "    x = L.MaxPooling3D()(x)\n",
    "    \n",
    "    x1 = L.Dropout(0.3)(x)\n",
    "    \n",
    "    x = L.Conv3D(64,7,activation='relu',padding='same')(x1)\n",
    "    \n",
    "    x = L.Dropout(0.3)(x)\n",
    "    \n",
    "    x = L.add([x,x1])\n",
    "    \n",
    "    x = L.Conv3D(256,7,activation='relu')(x)\n",
    "    \n",
    "    x = L.Conv3D(128,9,activation='relu')(x)\n",
    "    \n",
    "    x = L.BatchNormalization()(x)\n",
    "    \n",
    "    x = L.MaxPooling3D()(x)\n",
    "    \n",
    "    x2 = L.Dropout(0.43)(x)\n",
    "    \n",
    "    x = L.Conv3D(128,7,activation='relu',padding='same',data_format='channels_last')(x2)\n",
    "    \n",
    "    x = L.Dropout(0.43)(x)\n",
    "    \n",
    "    x = L.add([x,x2])\n",
    "    \n",
    "    x = L.BatchNormalization()(x)\n",
    "    \n",
    "    x = L.MaxPooling3D()(x)\n",
    "    \n",
    "    x = L.Dropout(0.43)(x)\n",
    "    \n",
    "    op1 = L.GlobalAveragePooling3D()(x)\n",
    "    '''\n",
    "    tab_model = M.load_model('dense_model.h5',custom_objects={'loss':mloss,'score':score})\n",
    "    \n",
    "    tab_model.trainable = False\n",
    "    \n",
    "    inp = L.Input((9,),name='input_d')\n",
    "\n",
    "    d = tab_model.get_layer(name='dense')(inp)\n",
    "    \n",
    "    d1 = tab_model.get_layer(name='dense_1')(d)\n",
    "    \n",
    "    op2 = tab_model.get_layer(name='dense_2')(d1)    \n",
    "    \n",
    "    inp = L.Input(shape=(4,),name='tab_input')\n",
    "    \n",
    "    x = L.Dense(128,activation ='relu',kernel_regularizer=R.l2(5e-4))(inp)\n",
    "    \n",
    "    x = L.Dense(128,activation ='relu',kernel_regularizer=R.l2(4e-4))(x)\n",
    "    \n",
    "    op2 = L.Dense(64,activation ='relu',kernel_regularizer=R.l2(2e-5))(x)\n",
    " \n",
    "    x = L.add([op1,op2])\n",
    "    '''\n",
    "    o1 = L.Dense(3,activation = 'linear',name = 'dense_f1')(op1)\n",
    "    o2 = L.Dense(3,activation = 'relu', name='dense_f2')(op1)\n",
    "    \n",
    "    pred1 = L.Lambda(lambda x: (x[0]+(tf.cumsum(x[1],axis=1))),name='output')([o1,o2])    \n",
    "    \n",
    "    \n",
    "    model = M.Model(inputs=inp2,outputs=pred1)\n",
    "    \n",
    "    model.compile(loss=mloss(0.9), optimizer=tf.keras.optimizers.Adam(learning_rate=1e-4), metrics=[score])\n",
    "    \n",
    "    return model\n"
   ]
  },
  {
   "cell_type": "code",
   "execution_count": 31,
   "metadata": {
    "execution": {
     "iopub.execute_input": "2020-09-24T11:50:44.481004Z",
     "iopub.status.busy": "2020-09-24T11:50:44.480194Z",
     "iopub.status.idle": "2020-09-24T11:50:44.749184Z",
     "shell.execute_reply": "2020-09-24T11:50:44.748178Z"
    },
    "papermill": {
     "duration": 0.312675,
     "end_time": "2020-09-24T11:50:44.749352",
     "exception": false,
     "start_time": "2020-09-24T11:50:44.436677",
     "status": "completed"
    },
    "tags": []
   },
   "outputs": [
    {
     "name": "stdout",
     "output_type": "stream",
     "text": [
      "Model: \"model_1\"\n",
      "__________________________________________________________________________________________________\n",
      "Layer (type)                    Output Shape         Param #     Connected to                     \n",
      "==================================================================================================\n",
      "conv_input (InputLayer)         [(None, 150, 55, 55, 0                                            \n",
      "__________________________________________________________________________________________________\n",
      "conv3d (Conv3D)                 (None, 146, 51, 51,  8064        conv_input[0][0]                 \n",
      "__________________________________________________________________________________________________\n",
      "conv3d_1 (Conv3D)               (None, 142, 47, 47,  512064      conv3d[0][0]                     \n",
      "__________________________________________________________________________________________________\n",
      "batch_normalization (BatchNorma (None, 142, 47, 47,  256         conv3d_1[0][0]                   \n",
      "__________________________________________________________________________________________________\n",
      "max_pooling3d (MaxPooling3D)    (None, 71, 23, 23, 6 0           batch_normalization[0][0]        \n",
      "__________________________________________________________________________________________________\n",
      "dropout (Dropout)               (None, 71, 23, 23, 6 0           max_pooling3d[0][0]              \n",
      "__________________________________________________________________________________________________\n",
      "conv3d_2 (Conv3D)               (None, 71, 23, 23, 6 1404992     dropout[0][0]                    \n",
      "__________________________________________________________________________________________________\n",
      "dropout_1 (Dropout)             (None, 71, 23, 23, 6 0           conv3d_2[0][0]                   \n",
      "__________________________________________________________________________________________________\n",
      "add (Add)                       (None, 71, 23, 23, 6 0           dropout_1[0][0]                  \n",
      "                                                                 dropout[0][0]                    \n",
      "__________________________________________________________________________________________________\n",
      "conv3d_3 (Conv3D)               (None, 65, 17, 17, 2 5619968     add[0][0]                        \n",
      "__________________________________________________________________________________________________\n",
      "conv3d_4 (Conv3D)               (None, 57, 9, 9, 128 23888000    conv3d_3[0][0]                   \n",
      "__________________________________________________________________________________________________\n",
      "batch_normalization_1 (BatchNor (None, 57, 9, 9, 128 512         conv3d_4[0][0]                   \n",
      "__________________________________________________________________________________________________\n",
      "max_pooling3d_1 (MaxPooling3D)  (None, 28, 4, 4, 128 0           batch_normalization_1[0][0]      \n",
      "__________________________________________________________________________________________________\n",
      "dropout_2 (Dropout)             (None, 28, 4, 4, 128 0           max_pooling3d_1[0][0]            \n",
      "__________________________________________________________________________________________________\n",
      "conv3d_5 (Conv3D)               (None, 28, 4, 4, 128 5619840     dropout_2[0][0]                  \n",
      "__________________________________________________________________________________________________\n",
      "dropout_3 (Dropout)             (None, 28, 4, 4, 128 0           conv3d_5[0][0]                   \n",
      "__________________________________________________________________________________________________\n",
      "add_1 (Add)                     (None, 28, 4, 4, 128 0           dropout_3[0][0]                  \n",
      "                                                                 dropout_2[0][0]                  \n",
      "__________________________________________________________________________________________________\n",
      "batch_normalization_2 (BatchNor (None, 28, 4, 4, 128 512         add_1[0][0]                      \n",
      "__________________________________________________________________________________________________\n",
      "max_pooling3d_2 (MaxPooling3D)  (None, 14, 2, 2, 128 0           batch_normalization_2[0][0]      \n",
      "__________________________________________________________________________________________________\n",
      "dropout_4 (Dropout)             (None, 14, 2, 2, 128 0           max_pooling3d_2[0][0]            \n",
      "__________________________________________________________________________________________________\n",
      "global_average_pooling3d (Globa (None, 128)          0           dropout_4[0][0]                  \n",
      "__________________________________________________________________________________________________\n",
      "dense_f1 (Dense)                (None, 3)            387         global_average_pooling3d[0][0]   \n",
      "__________________________________________________________________________________________________\n",
      "dense_f2 (Dense)                (None, 3)            387         global_average_pooling3d[0][0]   \n",
      "__________________________________________________________________________________________________\n",
      "output (Lambda)                 (None, 3)            0           dense_f1[0][0]                   \n",
      "                                                                 dense_f2[0][0]                   \n",
      "==================================================================================================\n",
      "Total params: 37,054,982\n",
      "Trainable params: 37,054,342\n",
      "Non-trainable params: 640\n",
      "__________________________________________________________________________________________________\n"
     ]
    }
   ],
   "source": [
    "model = build_model()\n",
    "model.summary()"
   ]
  },
  {
   "cell_type": "code",
   "execution_count": 32,
   "metadata": {
    "execution": {
     "iopub.execute_input": "2020-09-24T11:50:44.827305Z",
     "iopub.status.busy": "2020-09-24T11:50:44.826732Z",
     "iopub.status.idle": "2020-09-24T11:50:44.830658Z",
     "shell.execute_reply": "2020-09-24T11:50:44.830041Z"
    },
    "papermill": {
     "duration": 0.043905,
     "end_time": "2020-09-24T11:50:44.830758",
     "exception": false,
     "start_time": "2020-09-24T11:50:44.786853",
     "status": "completed"
    },
    "tags": []
   },
   "outputs": [],
   "source": [
    "folds = 5\n",
    "KF = KFold(n_splits=folds,shuffle=True,random_state=24)"
   ]
  },
  {
   "cell_type": "code",
   "execution_count": 33,
   "metadata": {
    "execution": {
     "iopub.execute_input": "2020-09-24T11:50:44.912127Z",
     "iopub.status.busy": "2020-09-24T11:50:44.909797Z",
     "iopub.status.idle": "2020-09-24T11:50:44.917715Z",
     "shell.execute_reply": "2020-09-24T11:50:44.917284Z"
    },
    "papermill": {
     "duration": 0.050995,
     "end_time": "2020-09-24T11:50:44.917805",
     "exception": false,
     "start_time": "2020-09-24T11:50:44.866810",
     "status": "completed"
    },
    "tags": []
   },
   "outputs": [],
   "source": [
    "x_train = data[x_cols].loc[data['Type'] == \"train\"].values\n",
    "y_train = data[prediction_col].loc[data['Type'] == \"train\"].values\n",
    "x_test = data[x_cols].loc[data['Type'] == \"test\"].values"
   ]
  },
  {
   "cell_type": "code",
   "execution_count": 34,
   "metadata": {
    "execution": {
     "iopub.execute_input": "2020-09-24T11:50:44.999297Z",
     "iopub.status.busy": "2020-09-24T11:50:44.997711Z",
     "iopub.status.idle": "2020-09-24T11:50:44.999941Z",
     "shell.execute_reply": "2020-09-24T11:50:45.000511Z"
    },
    "papermill": {
     "duration": 0.046085,
     "end_time": "2020-09-24T11:50:45.000632",
     "exception": false,
     "start_time": "2020-09-24T11:50:44.954547",
     "status": "completed"
    },
    "tags": []
   },
   "outputs": [],
   "source": [
    "def get_lr_callback():\n",
    "    lr_start   = 0.001\n",
    "    lr_max     = 0.001\n",
    "    lr_min     = 0.00001\n",
    "    lr_ramp_ep = EPOCHS\n",
    "    lr_sus_ep  = 0\n",
    "    lr_decay   = 0.9\n",
    "   \n",
    "    def lrfn(epoch):\n",
    "        if epoch < lr_ramp_ep:\n",
    "            lr = lr_start - ( lr_start - lr_min ) / lr_ramp_ep * epoch \n",
    "            \n",
    "        elif epoch < lr_ramp_ep + lr_sus_ep:\n",
    "            lr = lr_min\n",
    "            '''\n",
    "        else:\n",
    "            lr = (lr_max - lr_min) * lr_decay**(epoch - lr_ramp_ep - lr_sus_ep) + lr_min\n",
    "            '''\n",
    "        return lr\n",
    "    lr_callback = tf.keras.callbacks.LearningRateScheduler(lrfn, verbose=False)\n",
    "    return lr_callback"
   ]
  },
  {
   "cell_type": "code",
   "execution_count": 35,
   "metadata": {
    "execution": {
     "iopub.execute_input": "2020-09-24T11:50:45.077866Z",
     "iopub.status.busy": "2020-09-24T11:50:45.077337Z",
     "iopub.status.idle": "2020-09-24T11:50:45.080709Z",
     "shell.execute_reply": "2020-09-24T11:50:45.081604Z"
    },
    "papermill": {
     "duration": 0.044255,
     "end_time": "2020-09-24T11:50:45.081715",
     "exception": false,
     "start_time": "2020-09-24T11:50:45.037460",
     "status": "completed"
    },
    "tags": []
   },
   "outputs": [],
   "source": [
    "#tf.keras.utils.plot_model(model, \"multi_input_and_output_model.png\", show_shapes=True)\n"
   ]
  },
  {
   "cell_type": "code",
   "execution_count": 36,
   "metadata": {
    "execution": {
     "iopub.execute_input": "2020-09-24T11:50:45.168710Z",
     "iopub.status.busy": "2020-09-24T11:50:45.164645Z",
     "iopub.status.idle": "2020-09-24T15:31:46.784491Z",
     "shell.execute_reply": "2020-09-24T15:31:46.781212Z"
    },
    "papermill": {
     "duration": 13261.667805,
     "end_time": "2020-09-24T15:31:46.785830",
     "exception": false,
     "start_time": "2020-09-24T11:50:45.118025",
     "status": "completed"
    },
    "tags": []
   },
   "outputs": [
    {
     "name": "stdout",
     "output_type": "stream",
     "text": [
      "################ FOLD 1 #####################\n",
      "Epoch 1/5\n",
      "245/245 [==============================] - 559s 2s/step - loss: 1166.7080 - score: 20.1785 - val_loss: 948.1885 - val_score: 11.5759 - lr: 0.0010\n",
      "Epoch 2/5\n",
      "245/245 [==============================] - 524s 2s/step - loss: 1018.8956 - score: 10.3732 - val_loss: 1011.6602 - val_score: 9.9891 - lr: 8.0200e-04\n",
      "Epoch 3/5\n",
      "245/245 [==============================] - 609s 2s/step - loss: 841.1771 - score: 8.9081 - val_loss: 911.5977 - val_score: 9.1505 - lr: 6.0400e-04\n",
      "Epoch 4/5\n",
      "245/245 [==============================] - 520s 2s/step - loss: 692.7885 - score: 8.5907 - val_loss: 737.2781 - val_score: 8.7155 - lr: 4.0600e-04\n",
      "Epoch 5/5\n",
      "245/245 [==============================] - 519s 2s/step - loss: 602.4833 - score: 8.4959 - val_loss: 735.6852 - val_score: 8.6762 - lr: 2.0800e-04\n"
     ]
    },
    {
     "data": {
      "image/png": "[encoded data removed]",
      "text/plain": [
       "<Figure size 432x288 with 1 Axes>"
      ]
     },
     "metadata": {
      "needs_background": "light"
     },
     "output_type": "display_data"
    },
    {
     "data": {
      "image/png": "[encoded data removed]",
      "text/plain": [
       "<Figure size 432x288 with 1 Axes>"
      ]
     },
     "metadata": {
      "needs_background": "light"
     },
     "output_type": "display_data"
    },
    {
     "name": "stdout",
     "output_type": "stream",
     "text": [
      "################ FOLD 2 #####################\n",
      "Epoch 1/5\n",
      "245/245 [==============================] - 516s 2s/step - loss: 472.9183 - score: 8.4117 - val_loss: 536.2432 - val_score: 8.5345 - lr: 0.0010\n",
      "Epoch 2/5\n",
      "245/245 [==============================] - 520s 2s/step - loss: 330.7811 - score: 8.3430 - val_loss: 408.4733 - val_score: 8.3277 - lr: 8.0200e-04\n",
      "Epoch 3/5\n",
      "245/245 [==============================] - 514s 2s/step - loss: 277.8158 - score: 8.3048 - val_loss: 408.0590 - val_score: 8.3440 - lr: 6.0400e-04\n",
      "Epoch 4/5\n",
      "245/245 [==============================] - 518s 2s/step - loss: 260.2892 - score: 8.2863 - val_loss: 365.5012 - val_score: 8.2974 - lr: 4.0600e-04\n",
      "Epoch 5/5\n",
      "245/245 [==============================] - 517s 2s/step - loss: 251.2464 - score: 8.2705 - val_loss: 383.8422 - val_score: 8.2736 - lr: 2.0800e-04\n"
     ]
    },
    {
     "data": {
      "image/png": "[encoded data removed]",
      "text/plain": [
       "<Figure size 432x288 with 1 Axes>"
      ]
     },
     "metadata": {
      "needs_background": "light"
     },
     "output_type": "display_data"
    },
    {
     "data": {
      "image/png": "[encoded data removed]",
      "text/plain": [
       "<Figure size 432x288 with 1 Axes>"
      ]
     },
     "metadata": {
      "needs_background": "light"
     },
     "output_type": "display_data"
    },
    {
     "name": "stdout",
     "output_type": "stream",
     "text": [
      "################ FOLD 3 #####################\n",
      "Epoch 1/5\n",
      "245/245 [==============================] - 522s 2s/step - loss: 260.9011 - score: 8.2787 - val_loss: 367.7435 - val_score: 8.2881 - lr: 0.0010\n",
      "Epoch 2/5\n",
      "245/245 [==============================] - 516s 2s/step - loss: 246.2446 - score: 8.2467 - val_loss: 411.2628 - val_score: 8.3240 - lr: 8.0200e-04\n",
      "Epoch 3/5\n",
      "245/245 [==============================] - 521s 2s/step - loss: 242.5289 - score: 8.2252 - val_loss: 377.0608 - val_score: 8.2633 - lr: 6.0400e-04\n",
      "Epoch 4/5\n",
      "245/245 [==============================] - 520s 2s/step - loss: 238.3906 - score: 8.2094 - val_loss: 373.3526 - val_score: 8.2544 - lr: 4.0600e-04\n",
      "Epoch 5/5\n",
      "245/245 [==============================] - 553s 2s/step - loss: 235.4248 - score: 8.2007 - val_loss: 416.8190 - val_score: 8.3179 - lr: 2.0800e-04\n"
     ]
    },
    {
     "data": {
      "image/png": "[encoded data removed]",
      "text/plain": [
       "<Figure size 432x288 with 1 Axes>"
      ]
     },
     "metadata": {
      "needs_background": "light"
     },
     "output_type": "display_data"
    },
    {
     "data": {
      "image/png": "[encoded data removed]",
      "text/plain": [
       "<Figure size 432x288 with 1 Axes>"
      ]
     },
     "metadata": {
      "needs_background": "light"
     },
     "output_type": "display_data"
    },
    {
     "name": "stdout",
     "output_type": "stream",
     "text": [
      "################ FOLD 4 #####################\n",
      "Epoch 1/5\n",
      "245/245 [==============================] - 519s 2s/step - loss: 236.5767 - score: 8.1879 - val_loss: 303.8884 - val_score: 8.2080 - lr: 0.0010\n",
      "Epoch 2/5\n",
      "245/245 [==============================] - 519s 2s/step - loss: 231.5584 - score: 8.1660 - val_loss: 356.2447 - val_score: 8.2321 - lr: 8.0200e-04\n",
      "Epoch 3/5\n",
      "245/245 [==============================] - 525s 2s/step - loss: 228.2530 - score: 8.1461 - val_loss: 403.7914 - val_score: 8.3023 - lr: 6.0400e-04\n",
      "Epoch 4/5\n",
      "245/245 [==============================] - 521s 2s/step - loss: 220.9574 - score: 8.1134 - val_loss: 390.9082 - val_score: 8.2889 - lr: 4.0600e-04\n",
      "Epoch 5/5\n",
      "245/245 [==============================] - 520s 2s/step - loss: 216.2569 - score: 8.0926 - val_loss: 395.1646 - val_score: 8.3084 - lr: 2.0800e-04\n"
     ]
    },
    {
     "data": {
      "image/png": "[encoded data removed]",
      "text/plain": [
       "<Figure size 432x288 with 1 Axes>"
      ]
     },
     "metadata": {
      "needs_background": "light"
     },
     "output_type": "display_data"
    },
    {
     "data": {
      "image/png": "[encoded data removed]",
      "text/plain": [
       "<Figure size 432x288 with 1 Axes>"
      ]
     },
     "metadata": {
      "needs_background": "light"
     },
     "output_type": "display_data"
    },
    {
     "name": "stdout",
     "output_type": "stream",
     "text": [
      "################ FOLD 5 #####################\n",
      "Epoch 1/5\n",
      "245/245 [==============================] - 524s 2s/step - loss: 230.6140 - score: 8.1334 - val_loss: 303.8429 - val_score: 8.1887 - lr: 0.0010\n",
      "Epoch 2/5\n",
      "245/245 [==============================] - 524s 2s/step - loss: 223.4686 - score: 8.1105 - val_loss: 455.0272 - val_score: 8.4655 - lr: 8.0200e-04\n",
      "Epoch 3/5\n",
      "245/245 [==============================] - 524s 2s/step - loss: 220.3052 - score: 8.0992 - val_loss: 412.2390 - val_score: 8.3594 - lr: 6.0400e-04\n",
      "Epoch 4/5\n",
      "245/245 [==============================] - 524s 2s/step - loss: 210.1551 - score: 8.0686 - val_loss: 473.8862 - val_score: 8.5090 - lr: 4.0600e-04\n",
      "Epoch 5/5\n",
      "245/245 [==============================] - 522s 2s/step - loss: 205.6506 - score: 8.0425 - val_loss: 356.8438 - val_score: 8.2501 - lr: 2.0800e-04\n"
     ]
    },
    {
     "data": {
      "image/png": "[encoded data removed]",
      "text/plain": [
       "<Figure size 432x288 with 1 Axes>"
      ]
     },
     "metadata": {
      "needs_background": "light"
     },
     "output_type": "display_data"
    },
    {
     "data": {
      "image/png": "[encoded data removed]",
      "text/plain": [
       "<Figure size 432x288 with 1 Axes>"
      ]
     },
     "metadata": {
      "needs_background": "light"
     },
     "output_type": "display_data"
    },
    {
     "name": "stdout",
     "output_type": "stream",
     "text": [
      "CPU times: user 3h 50min, sys: 1h 4min 53s, total: 4h 54min 53s\n",
      "Wall time: 3h 41min\n"
     ]
    }
   ],
   "source": [
    "%%time\n",
    "x_train = data[x_cols].loc[data['Type'] == \"train\"].values\n",
    "patient_ids = data['Patient'].loc[data['Type']=='train'].values\n",
    "target_val = data[prediction_col].loc[data['Type'] == \"train\"].values\n",
    "for fold,(t_idx,v_idx) in enumerate(KF.split(patient_ids)):\n",
    "    print(f\"################ FOLD {fold+1} #####################\")\n",
    "    train_gen = Data_Generator(BATCH_SIZE,patient_ids[t_idx],x_train[t_idx],IMAGE_DIM,target=target_val[t_idx],train=True)\n",
    "    val_gen = Data_Generator(BATCH_SIZE,patient_ids[v_idx],x_train[v_idx],IMAGE_DIM,target=target_val[v_idx],train=True)\n",
    "    total_val_train = len(patient_ids[v_idx])\n",
    "    total_train = len(patient_ids[t_idx])\n",
    "    history = model.fit(\n",
    "        train_gen,\n",
    "        steps_per_epoch=total_train//BATCH_SIZE,\n",
    "        epochs=EPOCHS,\n",
    "        validation_data = val_gen,\n",
    "        validation_steps = total_val_train//BATCH_SIZE,\n",
    "        verbose=1,\n",
    "        callbacks=[get_lr_callback()]\n",
    "    )\n",
    "    \n",
    "    plt.figure()\n",
    "    plt.plot(list(range(EPOCHS)),history.history['val_loss'])\n",
    "    plt.plot(list(range(EPOCHS)),history.history['loss'])\n",
    "    plt.xlabel(\"Epochs\")\n",
    "    plt.ylabel('loss')\n",
    "    plt.legend(['val_loss','loss'])\n",
    "    plt.show()\n",
    "    \n",
    "    plt.figure()\n",
    "    plt.plot(list(range(EPOCHS)),history.history['val_score'])\n",
    "    plt.plot(list(range(EPOCHS)),history.history['score'])\n",
    "    plt.xlabel(\"Epochs\")\n",
    "    plt.ylabel('score')\n",
    "    plt.legend(['val_score','score'])\n",
    "    plt.show()"
   ]
  },
  {
   "cell_type": "code",
   "execution_count": 37,
   "metadata": {
    "execution": {
     "iopub.execute_input": "2020-09-24T15:31:50.630908Z",
     "iopub.status.busy": "2020-09-24T15:31:50.627473Z",
     "iopub.status.idle": "2020-09-24T15:31:51.985684Z",
     "shell.execute_reply": "2020-09-24T15:31:51.986496Z"
    },
    "papermill": {
     "duration": 3.204962,
     "end_time": "2020-09-24T15:31:51.986692",
     "exception": false,
     "start_time": "2020-09-24T15:31:48.781730",
     "status": "completed"
    },
    "tags": []
   },
   "outputs": [],
   "source": [
    "model.save('model.h5')"
   ]
  },
  {
   "cell_type": "code",
   "execution_count": 38,
   "metadata": {
    "execution": {
     "iopub.execute_input": "2020-09-24T15:31:56.053246Z",
     "iopub.status.busy": "2020-09-24T15:31:56.051360Z",
     "iopub.status.idle": "2020-09-24T15:31:56.053832Z",
     "shell.execute_reply": "2020-09-24T15:31:56.054255Z"
    },
    "papermill": {
     "duration": 1.773646,
     "end_time": "2020-09-24T15:31:56.054378",
     "exception": false,
     "start_time": "2020-09-24T15:31:54.280732",
     "status": "completed"
    },
    "tags": []
   },
   "outputs": [],
   "source": [
    "#model = M.load_model('../input/tab-data-osic/model.h5',custom_objects={'loss':mloss,'score':score})\n",
    "#model.summary()"
   ]
  },
  {
   "cell_type": "code",
   "execution_count": 39,
   "metadata": {
    "execution": {
     "iopub.execute_input": "2020-09-24T15:31:59.887304Z",
     "iopub.status.busy": "2020-09-24T15:31:59.886331Z",
     "iopub.status.idle": "2020-09-24T15:31:59.888847Z",
     "shell.execute_reply": "2020-09-24T15:31:59.888318Z"
    },
    "papermill": {
     "duration": 1.777545,
     "end_time": "2020-09-24T15:31:59.888939",
     "exception": false,
     "start_time": "2020-09-24T15:31:58.111394",
     "status": "completed"
    },
    "tags": []
   },
   "outputs": [],
   "source": [
    "#test_patient_ids = data['Patient'].loc[data['Type'] == \"test\"].values"
   ]
  },
  {
   "cell_type": "code",
   "execution_count": 40,
   "metadata": {
    "execution": {
     "iopub.execute_input": "2020-09-24T15:32:03.884207Z",
     "iopub.status.busy": "2020-09-24T15:32:03.882750Z",
     "iopub.status.idle": "2020-09-24T15:32:03.885092Z",
     "shell.execute_reply": "2020-09-24T15:32:03.885631Z"
    },
    "papermill": {
     "duration": 2.216677,
     "end_time": "2020-09-24T15:32:03.885767",
     "exception": false,
     "start_time": "2020-09-24T15:32:01.669090",
     "status": "completed"
    },
    "tags": []
   },
   "outputs": [],
   "source": [
    "#test_gen = Data_Generator(2,test_patient_ids,x_test,IMAGE_DIM,train=False)"
   ]
  },
  {
   "cell_type": "code",
   "execution_count": 41,
   "metadata": {
    "execution": {
     "iopub.execute_input": "2020-09-24T15:32:07.525469Z",
     "iopub.status.busy": "2020-09-24T15:32:07.524463Z",
     "iopub.status.idle": "2020-09-24T15:32:07.527165Z",
     "shell.execute_reply": "2020-09-24T15:32:07.526625Z"
    },
    "papermill": {
     "duration": 1.813106,
     "end_time": "2020-09-24T15:32:07.527262",
     "exception": false,
     "start_time": "2020-09-24T15:32:05.714156",
     "status": "completed"
    },
    "tags": []
   },
   "outputs": [],
   "source": [
    "#print(\"Inferencing\")"
   ]
  },
  {
   "cell_type": "code",
   "execution_count": 42,
   "metadata": {
    "execution": {
     "iopub.execute_input": "2020-09-24T15:32:11.094686Z",
     "iopub.status.busy": "2020-09-24T15:32:11.093850Z",
     "iopub.status.idle": "2020-09-24T15:32:11.096830Z",
     "shell.execute_reply": "2020-09-24T15:32:11.096412Z"
    },
    "papermill": {
     "duration": 1.783243,
     "end_time": "2020-09-24T15:32:11.096923",
     "exception": false,
     "start_time": "2020-09-24T15:32:09.313680",
     "status": "completed"
    },
    "tags": []
   },
   "outputs": [],
   "source": [
    "#pred = model.predict(test_gen,verbose=1,batch_size=BATCH_SIZE)3"
   ]
  },
  {
   "cell_type": "code",
   "execution_count": 43,
   "metadata": {
    "execution": {
     "iopub.execute_input": "2020-09-24T15:32:14.896921Z",
     "iopub.status.busy": "2020-09-24T15:32:14.896155Z",
     "iopub.status.idle": "2020-09-24T15:32:14.899935Z",
     "shell.execute_reply": "2020-09-24T15:32:14.899422Z"
    },
    "papermill": {
     "duration": 2.047834,
     "end_time": "2020-09-24T15:32:14.900034",
     "exception": false,
     "start_time": "2020-09-24T15:32:12.852200",
     "status": "completed"
    },
    "tags": []
   },
   "outputs": [],
   "source": [
    "#pred"
   ]
  },
  {
   "cell_type": "markdown",
   "metadata": {
    "papermill": {
     "duration": 1.873388,
     "end_time": "2020-09-24T15:32:18.526660",
     "exception": false,
     "start_time": "2020-09-24T15:32:16.653272",
     "status": "completed"
    },
    "tags": []
   },
   "source": []
  },
  {
   "cell_type": "code",
   "execution_count": 44,
   "metadata": {
    "execution": {
     "iopub.execute_input": "2020-09-24T15:32:22.417014Z",
     "iopub.status.busy": "2020-09-24T15:32:22.416108Z",
     "iopub.status.idle": "2020-09-24T15:32:22.418769Z",
     "shell.execute_reply": "2020-09-24T15:32:22.418323Z"
    },
    "papermill": {
     "duration": 1.947247,
     "end_time": "2020-09-24T15:32:22.418865",
     "exception": false,
     "start_time": "2020-09-24T15:32:20.471618",
     "status": "completed"
    },
    "tags": []
   },
   "outputs": [],
   "source": [
    "#conf = pred[:,2] - pred[:,0]\n",
    "#for i in range(len(conf)):\n",
    "#    conf[i] = max(conf[i],70)"
   ]
  },
  {
   "cell_type": "code",
   "execution_count": 45,
   "metadata": {
    "execution": {
     "iopub.execute_input": "2020-09-24T15:32:26.228491Z",
     "iopub.status.busy": "2020-09-24T15:32:26.227584Z",
     "iopub.status.idle": "2020-09-24T15:32:26.229992Z",
     "shell.execute_reply": "2020-09-24T15:32:26.229460Z"
    },
    "papermill": {
     "duration": 2.042282,
     "end_time": "2020-09-24T15:32:26.230118",
     "exception": false,
     "start_time": "2020-09-24T15:32:24.187836",
     "status": "completed"
    },
    "tags": []
   },
   "outputs": [],
   "source": [
    "#pred[:,1]"
   ]
  },
  {
   "cell_type": "code",
   "execution_count": 46,
   "metadata": {
    "execution": {
     "iopub.execute_input": "2020-09-24T15:32:29.850009Z",
     "iopub.status.busy": "2020-09-24T15:32:29.848955Z",
     "iopub.status.idle": "2020-09-24T15:32:29.851889Z",
     "shell.execute_reply": "2020-09-24T15:32:29.851461Z"
    },
    "papermill": {
     "duration": 1.76358,
     "end_time": "2020-09-24T15:32:29.851986",
     "exception": false,
     "start_time": "2020-09-24T15:32:28.088406",
     "status": "completed"
    },
    "tags": []
   },
   "outputs": [],
   "source": [
    "#pred_dict = {'FVC':pred[:,1],'Confidence':conf}\n",
    "#pred_df = pd.DataFrame(pred_dict)"
   ]
  },
  {
   "cell_type": "code",
   "execution_count": 47,
   "metadata": {
    "execution": {
     "iopub.execute_input": "2020-09-24T15:32:33.375150Z",
     "iopub.status.busy": "2020-09-24T15:32:33.374324Z",
     "iopub.status.idle": "2020-09-24T15:32:33.377285Z",
     "shell.execute_reply": "2020-09-24T15:32:33.376848Z"
    },
    "papermill": {
     "duration": 1.770851,
     "end_time": "2020-09-24T15:32:33.377382",
     "exception": false,
     "start_time": "2020-09-24T15:32:31.606531",
     "status": "completed"
    },
    "tags": []
   },
   "outputs": [],
   "source": [
    "#sub['Confidence'] = pred_df['Confidence']\n",
    "#sub['FVC'] = pred_df['FVC']"
   ]
  },
  {
   "cell_type": "code",
   "execution_count": 48,
   "metadata": {
    "execution": {
     "iopub.execute_input": "2020-09-24T15:32:37.300163Z",
     "iopub.status.busy": "2020-09-24T15:32:37.299145Z",
     "iopub.status.idle": "2020-09-24T15:32:37.301246Z",
     "shell.execute_reply": "2020-09-24T15:32:37.301800Z"
    },
    "papermill": {
     "duration": 2.116598,
     "end_time": "2020-09-24T15:32:37.301936",
     "exception": false,
     "start_time": "2020-09-24T15:32:35.185338",
     "status": "completed"
    },
    "tags": []
   },
   "outputs": [],
   "source": [
    "#subm = sub[['Patient_Week','FVC','Confidence']].copy()"
   ]
  },
  {
   "cell_type": "code",
   "execution_count": 49,
   "metadata": {
    "execution": {
     "iopub.execute_input": "2020-09-24T15:32:40.917639Z",
     "iopub.status.busy": "2020-09-24T15:32:40.916803Z",
     "iopub.status.idle": "2020-09-24T15:32:40.919396Z",
     "shell.execute_reply": "2020-09-24T15:32:40.919793Z"
    },
    "papermill": {
     "duration": 1.797451,
     "end_time": "2020-09-24T15:32:40.919912",
     "exception": false,
     "start_time": "2020-09-24T15:32:39.122461",
     "status": "completed"
    },
    "tags": []
   },
   "outputs": [],
   "source": [
    "#subm.to_csv(\"submission.csv\", index=False)"
   ]
  },
  {
   "cell_type": "markdown",
   "metadata": {
    "papermill": {
     "duration": 1.807683,
     "end_time": "2020-09-24T15:32:44.554979",
     "exception": false,
     "start_time": "2020-09-24T15:32:42.747296",
     "status": "completed"
    },
    "tags": []
   },
   "source": [
    "import matplotlib.animation as animation\n",
    "import matplotlib.pyplot as plt\n",
    "for j in pat:\n",
    "    fig = plt.figure()\n",
    "    Writer = animation.writers['ffmpeg']\n",
    "    writer = Writer(fps=15, metadata=dict(artist='Me'), bitrate=1800)\n",
    "    im=[]\n",
    "    length = len([name for name in os.listdir(f'../input/osic-pulmonary-fibrosis-progression/train/{j}')])\n",
    "    try:\n",
    "        for i in range(1,length+1):\n",
    "            img_path = f'{comp_dir}/train/{j}/{i}.dcm'\n",
    "            img = pydicom.dcmread(img_path)\n",
    "            img = plt.imshow(img.pixel_array,cmap='gray')\n",
    "            im.append([img])\n",
    "        #im_ani = animation.FuncAnimation(fig, im, 25,interval=50, blit=True)\n",
    "        im_ani = animation.ArtistAnimation(fig, im, interval=50,blit=True)\n",
    "        im_ani.save(f'{j}.mp4', writer=writer)\n",
    "    except:\n",
    "        pass"
   ]
  }
 ],
 "metadata": {
  "kernelspec": {
   "display_name": "Python 3",
   "language": "python",
   "name": "python3"
  },
  "language_info": {
   "codemirror_mode": {
    "name": "ipython",
    "version": 3
   },
   "file_extension": ".py",
   "mimetype": "text/x-python",
   "name": "python",
   "nbconvert_exporter": "python",
   "pygments_lexer": "ipython3",
   "version": "3.7.6"
  },
  "papermill": {
   "duration": 13442.702069,
   "end_time": "2020-09-24T15:32:48.353851",
   "environment_variables": {},
   "exception": null,
   "input_path": "__notebook__.ipynb",
   "output_path": "__notebook__.ipynb",
   "parameters": {},
   "start_time": "2020-09-24T11:48:45.651782",
   "version": "2.1.0"
  }
 },
 "nbformat": 4,
 "nbformat_minor": 4
}
