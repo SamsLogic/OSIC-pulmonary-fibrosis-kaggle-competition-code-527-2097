{
 "cells": [
  {
   "cell_type": "code",
   "execution_count": 1,
   "metadata": {
    "execution": {
     "iopub.execute_input": "2020-09-23T15:53:24.486891Z",
     "iopub.status.busy": "2020-09-23T15:53:24.486053Z",
     "iopub.status.idle": "2020-09-23T15:53:25.525099Z",
     "shell.execute_reply": "2020-09-23T15:53:25.524001Z"
    },
    "papermill": {
     "duration": 1.071973,
     "end_time": "2020-09-23T15:53:25.525234",
     "exception": false,
     "start_time": "2020-09-23T15:53:24.453261",
     "status": "completed"
    },
    "tags": []
   },
   "outputs": [],
   "source": [
    "import numpy as np\n",
    "import pandas as pd\n",
    "import os\n",
    "from PIL import Image\n",
    "import pydicom\n",
    "import matplotlib.pyplot as plt\n",
    "import pylab\n",
    "import cv2\n",
    "from tensorflow.keras.utils import Sequence\n",
    "#import gdcm\n",
    "from tqdm import tqdm\n",
    "\n",
    "import tensorflow as tf\n",
    "import tensorflow.keras.layers as L\n",
    "import tensorflow.keras.models as M\n",
    "import tensorflow.keras.backend as K\n",
    "import tensorflow.keras.regularizers as R\n",
    "from sklearn.metrics import mean_absolute_error\n",
    "from sklearn.model_selection import KFold"
   ]
  },
  {
   "cell_type": "code",
   "execution_count": 2,
   "metadata": {
    "execution": {
     "iopub.execute_input": "2020-09-23T15:53:25.579616Z",
     "iopub.status.busy": "2020-09-23T15:53:25.578701Z",
     "iopub.status.idle": "2020-09-23T15:53:25.580645Z",
     "shell.execute_reply": "2020-09-23T15:53:25.581137Z"
    },
    "papermill": {
     "duration": 0.031936,
     "end_time": "2020-09-23T15:53:25.581253",
     "exception": false,
     "start_time": "2020-09-23T15:53:25.549317",
     "status": "completed"
    },
    "tags": []
   },
   "outputs": [],
   "source": [
    "EPOCHS = 5\n",
    "NUM_IMAGES = 140\n",
    "BATCH_SIZE = 4\n",
    "FOLDS = 5\n",
    "IMAGE_DIM = (NUM_IMAGES,55,55)\n",
    "COMP_DIR = '../input/osic-pulmonary-fibrosis-progression/'\n",
    "TRAIN_PATH = '../input/osic-pulmonary-fibrosis-progression/train'\n",
    "TEST_PATH = '../input/osic-pulmonary-fibrosis-progression/test'\n",
    "SUB_PATH = '../input/osic-pulmonary-fibrosis-progression/sample_submission.csv'"
   ]
  },
  {
   "cell_type": "code",
   "execution_count": 3,
   "metadata": {
    "_cell_guid": "79c7e3d0-c299-4dcb-8224-4455121ee9b0",
    "_uuid": "d629ff2d2480ee46fbb7e2d37f6b5fab8052498a",
    "execution": {
     "iopub.execute_input": "2020-09-23T15:53:25.636374Z",
     "iopub.status.busy": "2020-09-23T15:53:25.635638Z",
     "iopub.status.idle": "2020-09-23T15:53:25.662334Z",
     "shell.execute_reply": "2020-09-23T15:53:25.661703Z"
    },
    "papermill": {
     "duration": 0.057603,
     "end_time": "2020-09-23T15:53:25.662437",
     "exception": false,
     "start_time": "2020-09-23T15:53:25.604834",
     "status": "completed"
    },
    "tags": []
   },
   "outputs": [],
   "source": [
    "comp_dir = '../input/osic-pulmonary-fibrosis-progression'\n",
    "\n",
    "train_data = pd.read_csv(os.path.join(comp_dir,'train.csv'))\n",
    "sub = pd.read_csv(os.path.join(comp_dir,'sample_submission.csv'))\n",
    "test_data = pd.read_csv(os.path.join(comp_dir,'test.csv'))\n",
    "train_data.drop_duplicates(keep=False, inplace=True, subset=['Patient','Weeks'])"
   ]
  },
  {
   "cell_type": "code",
   "execution_count": 4,
   "metadata": {
    "execution": {
     "iopub.execute_input": "2020-09-23T15:53:25.717685Z",
     "iopub.status.busy": "2020-09-23T15:53:25.717116Z",
     "iopub.status.idle": "2020-09-23T15:53:25.737210Z",
     "shell.execute_reply": "2020-09-23T15:53:25.736714Z"
    },
    "papermill": {
     "duration": 0.050091,
     "end_time": "2020-09-23T15:53:25.737305",
     "exception": false,
     "start_time": "2020-09-23T15:53:25.687214",
     "status": "completed"
    },
    "tags": []
   },
   "outputs": [],
   "source": [
    "train_data_u = train_data\n",
    "train_data_u = train_data_u.drop_duplicates(subset=['Patient'])\n",
    "train_data_u = train_data_u.rename(columns={'Weeks':'Base_Week','FVC':'Base_FVC','Percent':'Base_Percent'})\n",
    "train_data_u['Typical_FVC'] = (train_data_u.Base_FVC.values/train_data_u.Base_Percent.values)*100\n",
    "train_data = train_data.merge(train_data_u.drop(['Age','Sex','SmokingStatus'],axis=1),on='Patient',how='left')"
   ]
  },
  {
   "cell_type": "code",
   "execution_count": 5,
   "metadata": {
    "execution": {
     "iopub.execute_input": "2020-09-23T15:53:25.797486Z",
     "iopub.status.busy": "2020-09-23T15:53:25.796234Z",
     "iopub.status.idle": "2020-09-23T15:53:25.798779Z",
     "shell.execute_reply": "2020-09-23T15:53:25.799376Z"
    },
    "papermill": {
     "duration": 0.038544,
     "end_time": "2020-09-23T15:53:25.799486",
     "exception": false,
     "start_time": "2020-09-23T15:53:25.760942",
     "status": "completed"
    },
    "tags": []
   },
   "outputs": [],
   "source": [
    "sub['Patient'] = sub['Patient_Week'].apply(lambda x:x.split('_')[0])\n",
    "sub['Weeks'] = sub['Patient_Week'].apply(lambda x: int(x.split('_')[-1]))\n",
    "sub = sub.drop(['Confidence'],axis=1)\n",
    "sub =  sub[['Patient','Weeks','Patient_Week']]"
   ]
  },
  {
   "cell_type": "code",
   "execution_count": 6,
   "metadata": {
    "execution": {
     "iopub.execute_input": "2020-09-23T15:53:25.857582Z",
     "iopub.status.busy": "2020-09-23T15:53:25.856485Z",
     "iopub.status.idle": "2020-09-23T15:53:25.863212Z",
     "shell.execute_reply": "2020-09-23T15:53:25.862655Z"
    },
    "papermill": {
     "duration": 0.039933,
     "end_time": "2020-09-23T15:53:25.863301",
     "exception": false,
     "start_time": "2020-09-23T15:53:25.823368",
     "status": "completed"
    },
    "tags": []
   },
   "outputs": [],
   "source": [
    "test_data = test_data.rename(columns={'Weeks':'Base_Week','FVC':'Base_FVC','Percent':'Base_Percent'})\n",
    "test_data['Typical_FVC'] = (test_data.Base_FVC.values/test_data.Base_Percent.values)*100\n",
    "sub = sub.merge(test_data, how='left', on='Patient')"
   ]
  },
  {
   "cell_type": "code",
   "execution_count": 7,
   "metadata": {
    "execution": {
     "iopub.execute_input": "2020-09-23T15:53:25.918335Z",
     "iopub.status.busy": "2020-09-23T15:53:25.916487Z",
     "iopub.status.idle": "2020-09-23T15:53:25.919060Z",
     "shell.execute_reply": "2020-09-23T15:53:25.919538Z"
    },
    "papermill": {
     "duration": 0.032212,
     "end_time": "2020-09-23T15:53:25.919640",
     "exception": false,
     "start_time": "2020-09-23T15:53:25.887428",
     "status": "completed"
    },
    "tags": []
   },
   "outputs": [],
   "source": [
    "train_data['Type'] = 'train'\n",
    "sub['Type'] = 'test'"
   ]
  },
  {
   "cell_type": "code",
   "execution_count": 8,
   "metadata": {
    "execution": {
     "iopub.execute_input": "2020-09-23T15:53:25.972057Z",
     "iopub.status.busy": "2020-09-23T15:53:25.971449Z",
     "iopub.status.idle": "2020-09-23T15:53:25.981491Z",
     "shell.execute_reply": "2020-09-23T15:53:25.980929Z"
    },
    "papermill": {
     "duration": 0.037834,
     "end_time": "2020-09-23T15:53:25.981584",
     "exception": false,
     "start_time": "2020-09-23T15:53:25.943750",
     "status": "completed"
    },
    "tags": []
   },
   "outputs": [],
   "source": [
    "data = train_data.append(sub)"
   ]
  },
  {
   "cell_type": "code",
   "execution_count": 9,
   "metadata": {
    "execution": {
     "iopub.execute_input": "2020-09-23T15:53:26.037724Z",
     "iopub.status.busy": "2020-09-23T15:53:26.036800Z",
     "iopub.status.idle": "2020-09-23T15:53:26.067614Z",
     "shell.execute_reply": "2020-09-23T15:53:26.068096Z"
    },
    "papermill": {
     "duration": 0.062244,
     "end_time": "2020-09-23T15:53:26.068200",
     "exception": false,
     "start_time": "2020-09-23T15:53:26.005956",
     "status": "completed"
    },
    "tags": []
   },
   "outputs": [
    {
     "data": {
      "text/html": [
       "<div>\n",
       "<style scoped>\n",
       "    .dataframe tbody tr th:only-of-type {\n",
       "        vertical-align: middle;\n",
       "    }\n",
       "\n",
       "    .dataframe tbody tr th {\n",
       "        vertical-align: top;\n",
       "    }\n",
       "\n",
       "    .dataframe thead th {\n",
       "        text-align: right;\n",
       "    }\n",
       "</style>\n",
       "<table border=\"1\" class=\"dataframe\">\n",
       "  <thead>\n",
       "    <tr style=\"text-align: right;\">\n",
       "      <th></th>\n",
       "      <th>Patient</th>\n",
       "      <th>Weeks</th>\n",
       "      <th>FVC</th>\n",
       "      <th>Percent</th>\n",
       "      <th>Age</th>\n",
       "      <th>Sex</th>\n",
       "      <th>SmokingStatus</th>\n",
       "      <th>Base_Week</th>\n",
       "      <th>Base_FVC</th>\n",
       "      <th>Base_Percent</th>\n",
       "      <th>Typical_FVC</th>\n",
       "      <th>Type</th>\n",
       "      <th>Patient_Week</th>\n",
       "    </tr>\n",
       "  </thead>\n",
       "  <tbody>\n",
       "    <tr>\n",
       "      <th>0</th>\n",
       "      <td>ID00007637202177411956430</td>\n",
       "      <td>-4</td>\n",
       "      <td>2315.0</td>\n",
       "      <td>58.253649</td>\n",
       "      <td>79</td>\n",
       "      <td>Male</td>\n",
       "      <td>Ex-smoker</td>\n",
       "      <td>-4</td>\n",
       "      <td>2315</td>\n",
       "      <td>58.253649</td>\n",
       "      <td>3974.0</td>\n",
       "      <td>train</td>\n",
       "      <td>NaN</td>\n",
       "    </tr>\n",
       "    <tr>\n",
       "      <th>1</th>\n",
       "      <td>ID00007637202177411956430</td>\n",
       "      <td>5</td>\n",
       "      <td>2214.0</td>\n",
       "      <td>55.712129</td>\n",
       "      <td>79</td>\n",
       "      <td>Male</td>\n",
       "      <td>Ex-smoker</td>\n",
       "      <td>-4</td>\n",
       "      <td>2315</td>\n",
       "      <td>58.253649</td>\n",
       "      <td>3974.0</td>\n",
       "      <td>train</td>\n",
       "      <td>NaN</td>\n",
       "    </tr>\n",
       "    <tr>\n",
       "      <th>2</th>\n",
       "      <td>ID00007637202177411956430</td>\n",
       "      <td>7</td>\n",
       "      <td>2061.0</td>\n",
       "      <td>51.862104</td>\n",
       "      <td>79</td>\n",
       "      <td>Male</td>\n",
       "      <td>Ex-smoker</td>\n",
       "      <td>-4</td>\n",
       "      <td>2315</td>\n",
       "      <td>58.253649</td>\n",
       "      <td>3974.0</td>\n",
       "      <td>train</td>\n",
       "      <td>NaN</td>\n",
       "    </tr>\n",
       "    <tr>\n",
       "      <th>3</th>\n",
       "      <td>ID00007637202177411956430</td>\n",
       "      <td>9</td>\n",
       "      <td>2144.0</td>\n",
       "      <td>53.950679</td>\n",
       "      <td>79</td>\n",
       "      <td>Male</td>\n",
       "      <td>Ex-smoker</td>\n",
       "      <td>-4</td>\n",
       "      <td>2315</td>\n",
       "      <td>58.253649</td>\n",
       "      <td>3974.0</td>\n",
       "      <td>train</td>\n",
       "      <td>NaN</td>\n",
       "    </tr>\n",
       "    <tr>\n",
       "      <th>4</th>\n",
       "      <td>ID00007637202177411956430</td>\n",
       "      <td>11</td>\n",
       "      <td>2069.0</td>\n",
       "      <td>52.063412</td>\n",
       "      <td>79</td>\n",
       "      <td>Male</td>\n",
       "      <td>Ex-smoker</td>\n",
       "      <td>-4</td>\n",
       "      <td>2315</td>\n",
       "      <td>58.253649</td>\n",
       "      <td>3974.0</td>\n",
       "      <td>train</td>\n",
       "      <td>NaN</td>\n",
       "    </tr>\n",
       "    <tr>\n",
       "      <th>...</th>\n",
       "      <td>...</td>\n",
       "      <td>...</td>\n",
       "      <td>...</td>\n",
       "      <td>...</td>\n",
       "      <td>...</td>\n",
       "      <td>...</td>\n",
       "      <td>...</td>\n",
       "      <td>...</td>\n",
       "      <td>...</td>\n",
       "      <td>...</td>\n",
       "      <td>...</td>\n",
       "      <td>...</td>\n",
       "      <td>...</td>\n",
       "    </tr>\n",
       "    <tr>\n",
       "      <th>725</th>\n",
       "      <td>ID00419637202311204720264</td>\n",
       "      <td>133</td>\n",
       "      <td>NaN</td>\n",
       "      <td>NaN</td>\n",
       "      <td>73</td>\n",
       "      <td>Male</td>\n",
       "      <td>Ex-smoker</td>\n",
       "      <td>6</td>\n",
       "      <td>3020</td>\n",
       "      <td>70.186855</td>\n",
       "      <td>4302.8</td>\n",
       "      <td>test</td>\n",
       "      <td>ID00419637202311204720264_133</td>\n",
       "    </tr>\n",
       "    <tr>\n",
       "      <th>726</th>\n",
       "      <td>ID00421637202311550012437</td>\n",
       "      <td>133</td>\n",
       "      <td>NaN</td>\n",
       "      <td>NaN</td>\n",
       "      <td>68</td>\n",
       "      <td>Male</td>\n",
       "      <td>Ex-smoker</td>\n",
       "      <td>15</td>\n",
       "      <td>2739</td>\n",
       "      <td>82.045291</td>\n",
       "      <td>3338.4</td>\n",
       "      <td>test</td>\n",
       "      <td>ID00421637202311550012437_133</td>\n",
       "    </tr>\n",
       "    <tr>\n",
       "      <th>727</th>\n",
       "      <td>ID00422637202311677017371</td>\n",
       "      <td>133</td>\n",
       "      <td>NaN</td>\n",
       "      <td>NaN</td>\n",
       "      <td>73</td>\n",
       "      <td>Male</td>\n",
       "      <td>Ex-smoker</td>\n",
       "      <td>6</td>\n",
       "      <td>1930</td>\n",
       "      <td>76.672493</td>\n",
       "      <td>2517.2</td>\n",
       "      <td>test</td>\n",
       "      <td>ID00422637202311677017371_133</td>\n",
       "    </tr>\n",
       "    <tr>\n",
       "      <th>728</th>\n",
       "      <td>ID00423637202312137826377</td>\n",
       "      <td>133</td>\n",
       "      <td>NaN</td>\n",
       "      <td>NaN</td>\n",
       "      <td>72</td>\n",
       "      <td>Male</td>\n",
       "      <td>Ex-smoker</td>\n",
       "      <td>17</td>\n",
       "      <td>3294</td>\n",
       "      <td>79.258903</td>\n",
       "      <td>4156.0</td>\n",
       "      <td>test</td>\n",
       "      <td>ID00423637202312137826377_133</td>\n",
       "    </tr>\n",
       "    <tr>\n",
       "      <th>729</th>\n",
       "      <td>ID00426637202313170790466</td>\n",
       "      <td>133</td>\n",
       "      <td>NaN</td>\n",
       "      <td>NaN</td>\n",
       "      <td>73</td>\n",
       "      <td>Male</td>\n",
       "      <td>Never smoked</td>\n",
       "      <td>0</td>\n",
       "      <td>2925</td>\n",
       "      <td>71.824968</td>\n",
       "      <td>4072.4</td>\n",
       "      <td>test</td>\n",
       "      <td>ID00426637202313170790466_133</td>\n",
       "    </tr>\n",
       "  </tbody>\n",
       "</table>\n",
       "<p>2265 rows × 13 columns</p>\n",
       "</div>"
      ],
      "text/plain": [
       "                       Patient  Weeks     FVC    Percent  Age   Sex  \\\n",
       "0    ID00007637202177411956430     -4  2315.0  58.253649   79  Male   \n",
       "1    ID00007637202177411956430      5  2214.0  55.712129   79  Male   \n",
       "2    ID00007637202177411956430      7  2061.0  51.862104   79  Male   \n",
       "3    ID00007637202177411956430      9  2144.0  53.950679   79  Male   \n",
       "4    ID00007637202177411956430     11  2069.0  52.063412   79  Male   \n",
       "..                         ...    ...     ...        ...  ...   ...   \n",
       "725  ID00419637202311204720264    133     NaN        NaN   73  Male   \n",
       "726  ID00421637202311550012437    133     NaN        NaN   68  Male   \n",
       "727  ID00422637202311677017371    133     NaN        NaN   73  Male   \n",
       "728  ID00423637202312137826377    133     NaN        NaN   72  Male   \n",
       "729  ID00426637202313170790466    133     NaN        NaN   73  Male   \n",
       "\n",
       "    SmokingStatus  Base_Week  Base_FVC  Base_Percent  Typical_FVC   Type  \\\n",
       "0       Ex-smoker         -4      2315     58.253649       3974.0  train   \n",
       "1       Ex-smoker         -4      2315     58.253649       3974.0  train   \n",
       "2       Ex-smoker         -4      2315     58.253649       3974.0  train   \n",
       "3       Ex-smoker         -4      2315     58.253649       3974.0  train   \n",
       "4       Ex-smoker         -4      2315     58.253649       3974.0  train   \n",
       "..            ...        ...       ...           ...          ...    ...   \n",
       "725     Ex-smoker          6      3020     70.186855       4302.8   test   \n",
       "726     Ex-smoker         15      2739     82.045291       3338.4   test   \n",
       "727     Ex-smoker          6      1930     76.672493       2517.2   test   \n",
       "728     Ex-smoker         17      3294     79.258903       4156.0   test   \n",
       "729  Never smoked          0      2925     71.824968       4072.4   test   \n",
       "\n",
       "                      Patient_Week  \n",
       "0                              NaN  \n",
       "1                              NaN  \n",
       "2                              NaN  \n",
       "3                              NaN  \n",
       "4                              NaN  \n",
       "..                             ...  \n",
       "725  ID00419637202311204720264_133  \n",
       "726  ID00421637202311550012437_133  \n",
       "727  ID00422637202311677017371_133  \n",
       "728  ID00423637202312137826377_133  \n",
       "729  ID00426637202313170790466_133  \n",
       "\n",
       "[2265 rows x 13 columns]"
      ]
     },
     "execution_count": 9,
     "metadata": {},
     "output_type": "execute_result"
    }
   ],
   "source": [
    "data"
   ]
  },
  {
   "cell_type": "code",
   "execution_count": 10,
   "metadata": {
    "execution": {
     "iopub.execute_input": "2020-09-23T15:53:26.126078Z",
     "iopub.status.busy": "2020-09-23T15:53:26.124367Z",
     "iopub.status.idle": "2020-09-23T15:53:26.126750Z",
     "shell.execute_reply": "2020-09-23T15:53:26.127233Z"
    },
    "papermill": {
     "duration": 0.033242,
     "end_time": "2020-09-23T15:53:26.127337",
     "exception": false,
     "start_time": "2020-09-23T15:53:26.094095",
     "status": "completed"
    },
    "tags": []
   },
   "outputs": [],
   "source": [
    "prediction_col = [\"FVC\"]\n",
    "Continuos_cols = [\"Weeks\",\"Base_Week\",\"Base_FVC\",\"Typical_FVC\",\"Age\",\"Percent\",\"Base_Percent\"]\n",
    "Categorical_cols = ['Sex','Smoking_status']"
   ]
  },
  {
   "cell_type": "code",
   "execution_count": 11,
   "metadata": {
    "execution": {
     "iopub.execute_input": "2020-09-23T15:53:26.181731Z",
     "iopub.status.busy": "2020-09-23T15:53:26.181165Z",
     "iopub.status.idle": "2020-09-23T15:53:26.185245Z",
     "shell.execute_reply": "2020-09-23T15:53:26.184725Z"
    },
    "papermill": {
     "duration": 0.032832,
     "end_time": "2020-09-23T15:53:26.185334",
     "exception": false,
     "start_time": "2020-09-23T15:53:26.152502",
     "status": "completed"
    },
    "tags": []
   },
   "outputs": [],
   "source": [
    "from sklearn.preprocessing import MinMaxScaler"
   ]
  },
  {
   "cell_type": "code",
   "execution_count": 12,
   "metadata": {
    "execution": {
     "iopub.execute_input": "2020-09-23T15:53:26.242426Z",
     "iopub.status.busy": "2020-09-23T15:53:26.241637Z",
     "iopub.status.idle": "2020-09-23T15:53:26.257731Z",
     "shell.execute_reply": "2020-09-23T15:53:26.257239Z"
    },
    "papermill": {
     "duration": 0.047098,
     "end_time": "2020-09-23T15:53:26.257817",
     "exception": false,
     "start_time": "2020-09-23T15:53:26.210719",
     "status": "completed"
    },
    "tags": []
   },
   "outputs": [],
   "source": [
    "scaler = MinMaxScaler()\n",
    "conti = scaler.fit_transform(data[Continuos_cols])\n",
    "data[Continuos_cols] = conti"
   ]
  },
  {
   "cell_type": "code",
   "execution_count": 13,
   "metadata": {
    "execution": {
     "iopub.execute_input": "2020-09-23T15:53:26.316798Z",
     "iopub.status.busy": "2020-09-23T15:53:26.316081Z",
     "iopub.status.idle": "2020-09-23T15:53:26.350732Z",
     "shell.execute_reply": "2020-09-23T15:53:26.351541Z"
    },
    "papermill": {
     "duration": 0.068347,
     "end_time": "2020-09-23T15:53:26.351704",
     "exception": false,
     "start_time": "2020-09-23T15:53:26.283357",
     "status": "completed"
    },
    "tags": []
   },
   "outputs": [
    {
     "name": "stdout",
     "output_type": "stream",
     "text": [
      "79.50710799558858\n",
      "98.51592571905941\n",
      "79.08661822268049\n",
      "78.86695444921291\n",
      "85.19475419165079\n"
     ]
    }
   ],
   "source": [
    "print(np.mean(train_data_u.query('SmokingStatus == \\'Never smoked\\'').Base_Percent.values))\n",
    "print(np.mean(train_data_u.query('SmokingStatus == \\'Currently smokes\\'').Base_Percent.values))\n",
    "print(np.mean(train_data_u.query('SmokingStatus == \\'Ex-smoker\\'').Base_Percent.values))\n",
    "print(np.mean(train_data_u.query('Sex == \\'Male\\'').Base_Percent.values))\n",
    "print(np.mean(train_data_u.query('Sex == \\'Female\\'').Base_Percent.values))"
   ]
  },
  {
   "cell_type": "code",
   "execution_count": 14,
   "metadata": {
    "execution": {
     "iopub.execute_input": "2020-09-23T15:53:26.431252Z",
     "iopub.status.busy": "2020-09-23T15:53:26.420954Z",
     "iopub.status.idle": "2020-09-23T15:53:26.452102Z",
     "shell.execute_reply": "2020-09-23T15:53:26.452542Z"
    },
    "papermill": {
     "duration": 0.074507,
     "end_time": "2020-09-23T15:53:26.452650",
     "exception": false,
     "start_time": "2020-09-23T15:53:26.378143",
     "status": "completed"
    },
    "tags": []
   },
   "outputs": [],
   "source": [
    "sex_m = np.zeros((len(data['Sex'].values),1))\n",
    "sex_f = np.zeros((len(data['Sex'].values),1))\n",
    "sm_es = np.zeros((len(data['Sex'].values),1))\n",
    "sm_ns = np.zeros((len(data['Sex'].values),1))\n",
    "sm_cs = np.zeros((len(data['Sex'].values),1))\n",
    "for i in range(len(data['Sex'].values)):\n",
    "    if data['Sex'].values[i] == 'Male':\n",
    "        sex_m[i] = 1\n",
    "    elif data['Sex'].values[i] == 'Female':\n",
    "        sex_f[i] = 1\n",
    "for i in range(len(data['SmokingStatus'].values)):\n",
    "    if data['SmokingStatus'].values[i] =='Ex-smoker':\n",
    "        sm_es[i] = 1\n",
    "    elif data['SmokingStatus'].values[i] =='Never smoked':\n",
    "        sm_ns[i] = 1\n",
    "    else:\n",
    "        sm_cs[i] = 1\n",
    "\n",
    "data['sex_m'] = sex_m\n",
    "data['sex_f'] = sex_f\n",
    "data['sm_es'] = sm_es\n",
    "data['sm_ns'] = sm_ns\n",
    "data['sm_cs'] = sm_cs"
   ]
  },
  {
   "cell_type": "code",
   "execution_count": 15,
   "metadata": {
    "execution": {
     "iopub.execute_input": "2020-09-23T15:53:26.509180Z",
     "iopub.status.busy": "2020-09-23T15:53:26.508444Z",
     "iopub.status.idle": "2020-09-23T15:53:26.510952Z",
     "shell.execute_reply": "2020-09-23T15:53:26.511474Z"
    },
    "papermill": {
     "duration": 0.032676,
     "end_time": "2020-09-23T15:53:26.511578",
     "exception": false,
     "start_time": "2020-09-23T15:53:26.478902",
     "status": "completed"
    },
    "tags": []
   },
   "outputs": [],
   "source": [
    "x_cols = ['Weeks','Base_Week','Base_FVC','Age','sex_m','sex_f','sm_es','sm_ns','sm_cs']"
   ]
  },
  {
   "cell_type": "code",
   "execution_count": 16,
   "metadata": {
    "execution": {
     "iopub.execute_input": "2020-09-23T15:53:26.570832Z",
     "iopub.status.busy": "2020-09-23T15:53:26.570015Z",
     "iopub.status.idle": "2020-09-23T15:53:26.578289Z",
     "shell.execute_reply": "2020-09-23T15:53:26.577775Z"
    },
    "papermill": {
     "duration": 0.040735,
     "end_time": "2020-09-23T15:53:26.578377",
     "exception": false,
     "start_time": "2020-09-23T15:53:26.537642",
     "status": "completed"
    },
    "tags": []
   },
   "outputs": [],
   "source": [
    "x_train = data[x_cols].loc[data['Type'] == \"train\"].values.astype(np.float)\n",
    "y_train = data[prediction_col].loc[data['Type'] == \"train\"].values.astype(np.float)\n",
    "x_test = data[x_cols].loc[data['Type'] == \"test\"].values.astype(np.float)"
   ]
  },
  {
   "cell_type": "code",
   "execution_count": 17,
   "metadata": {
    "execution": {
     "iopub.execute_input": "2020-09-23T15:53:26.663433Z",
     "iopub.status.busy": "2020-09-23T15:53:26.650406Z",
     "iopub.status.idle": "2020-09-23T15:53:26.667469Z",
     "shell.execute_reply": "2020-09-23T15:53:26.667962Z"
    },
    "papermill": {
     "duration": 0.062922,
     "end_time": "2020-09-23T15:53:26.668069",
     "exception": false,
     "start_time": "2020-09-23T15:53:26.605147",
     "status": "completed"
    },
    "tags": []
   },
   "outputs": [
    {
     "data": {
      "text/html": [
       "<div>\n",
       "<style scoped>\n",
       "    .dataframe tbody tr th:only-of-type {\n",
       "        vertical-align: middle;\n",
       "    }\n",
       "\n",
       "    .dataframe tbody tr th {\n",
       "        vertical-align: top;\n",
       "    }\n",
       "\n",
       "    .dataframe thead th {\n",
       "        text-align: right;\n",
       "    }\n",
       "</style>\n",
       "<table border=\"1\" class=\"dataframe\">\n",
       "  <thead>\n",
       "    <tr style=\"text-align: right;\">\n",
       "      <th></th>\n",
       "      <th>Patient</th>\n",
       "      <th>Weeks</th>\n",
       "      <th>FVC</th>\n",
       "      <th>Percent</th>\n",
       "      <th>Age</th>\n",
       "      <th>Sex</th>\n",
       "      <th>SmokingStatus</th>\n",
       "      <th>Base_Week</th>\n",
       "      <th>Base_FVC</th>\n",
       "      <th>Base_Percent</th>\n",
       "      <th>Typical_FVC</th>\n",
       "      <th>Type</th>\n",
       "      <th>Patient_Week</th>\n",
       "      <th>sex_m</th>\n",
       "      <th>sex_f</th>\n",
       "      <th>sm_es</th>\n",
       "      <th>sm_ns</th>\n",
       "      <th>sm_cs</th>\n",
       "    </tr>\n",
       "  </thead>\n",
       "  <tbody>\n",
       "    <tr>\n",
       "      <th>0</th>\n",
       "      <td>ID00007637202177411956430</td>\n",
       "      <td>0.055172</td>\n",
       "      <td>2315.0</td>\n",
       "      <td>0.236393</td>\n",
       "      <td>0.769231</td>\n",
       "      <td>Male</td>\n",
       "      <td>Ex-smoker</td>\n",
       "      <td>0.011905</td>\n",
       "      <td>0.241456</td>\n",
       "      <td>0.135886</td>\n",
       "      <td>0.714466</td>\n",
       "      <td>train</td>\n",
       "      <td>NaN</td>\n",
       "      <td>1.0</td>\n",
       "      <td>0.0</td>\n",
       "      <td>1.0</td>\n",
       "      <td>0.0</td>\n",
       "      <td>0.0</td>\n",
       "    </tr>\n",
       "    <tr>\n",
       "      <th>1</th>\n",
       "      <td>ID00007637202177411956430</td>\n",
       "      <td>0.117241</td>\n",
       "      <td>2214.0</td>\n",
       "      <td>0.215941</td>\n",
       "      <td>0.769231</td>\n",
       "      <td>Male</td>\n",
       "      <td>Ex-smoker</td>\n",
       "      <td>0.011905</td>\n",
       "      <td>0.241456</td>\n",
       "      <td>0.135886</td>\n",
       "      <td>0.714466</td>\n",
       "      <td>train</td>\n",
       "      <td>NaN</td>\n",
       "      <td>1.0</td>\n",
       "      <td>0.0</td>\n",
       "      <td>1.0</td>\n",
       "      <td>0.0</td>\n",
       "      <td>0.0</td>\n",
       "    </tr>\n",
       "    <tr>\n",
       "      <th>2</th>\n",
       "      <td>ID00007637202177411956430</td>\n",
       "      <td>0.131034</td>\n",
       "      <td>2061.0</td>\n",
       "      <td>0.184960</td>\n",
       "      <td>0.769231</td>\n",
       "      <td>Male</td>\n",
       "      <td>Ex-smoker</td>\n",
       "      <td>0.011905</td>\n",
       "      <td>0.241456</td>\n",
       "      <td>0.135886</td>\n",
       "      <td>0.714466</td>\n",
       "      <td>train</td>\n",
       "      <td>NaN</td>\n",
       "      <td>1.0</td>\n",
       "      <td>0.0</td>\n",
       "      <td>1.0</td>\n",
       "      <td>0.0</td>\n",
       "      <td>0.0</td>\n",
       "    </tr>\n",
       "    <tr>\n",
       "      <th>3</th>\n",
       "      <td>ID00007637202177411956430</td>\n",
       "      <td>0.144828</td>\n",
       "      <td>2144.0</td>\n",
       "      <td>0.201767</td>\n",
       "      <td>0.769231</td>\n",
       "      <td>Male</td>\n",
       "      <td>Ex-smoker</td>\n",
       "      <td>0.011905</td>\n",
       "      <td>0.241456</td>\n",
       "      <td>0.135886</td>\n",
       "      <td>0.714466</td>\n",
       "      <td>train</td>\n",
       "      <td>NaN</td>\n",
       "      <td>1.0</td>\n",
       "      <td>0.0</td>\n",
       "      <td>1.0</td>\n",
       "      <td>0.0</td>\n",
       "      <td>0.0</td>\n",
       "    </tr>\n",
       "    <tr>\n",
       "      <th>4</th>\n",
       "      <td>ID00007637202177411956430</td>\n",
       "      <td>0.158621</td>\n",
       "      <td>2069.0</td>\n",
       "      <td>0.186580</td>\n",
       "      <td>0.769231</td>\n",
       "      <td>Male</td>\n",
       "      <td>Ex-smoker</td>\n",
       "      <td>0.011905</td>\n",
       "      <td>0.241456</td>\n",
       "      <td>0.135886</td>\n",
       "      <td>0.714466</td>\n",
       "      <td>train</td>\n",
       "      <td>NaN</td>\n",
       "      <td>1.0</td>\n",
       "      <td>0.0</td>\n",
       "      <td>1.0</td>\n",
       "      <td>0.0</td>\n",
       "      <td>0.0</td>\n",
       "    </tr>\n",
       "    <tr>\n",
       "      <th>...</th>\n",
       "      <td>...</td>\n",
       "      <td>...</td>\n",
       "      <td>...</td>\n",
       "      <td>...</td>\n",
       "      <td>...</td>\n",
       "      <td>...</td>\n",
       "      <td>...</td>\n",
       "      <td>...</td>\n",
       "      <td>...</td>\n",
       "      <td>...</td>\n",
       "      <td>...</td>\n",
       "      <td>...</td>\n",
       "      <td>...</td>\n",
       "      <td>...</td>\n",
       "      <td>...</td>\n",
       "      <td>...</td>\n",
       "      <td>...</td>\n",
       "      <td>...</td>\n",
       "    </tr>\n",
       "    <tr>\n",
       "      <th>725</th>\n",
       "      <td>ID00419637202311204720264</td>\n",
       "      <td>1.000000</td>\n",
       "      <td>NaN</td>\n",
       "      <td>NaN</td>\n",
       "      <td>0.615385</td>\n",
       "      <td>Male</td>\n",
       "      <td>Ex-smoker</td>\n",
       "      <td>0.130952</td>\n",
       "      <td>0.372400</td>\n",
       "      <td>0.244706</td>\n",
       "      <td>0.813374</td>\n",
       "      <td>test</td>\n",
       "      <td>ID00419637202311204720264_133</td>\n",
       "      <td>1.0</td>\n",
       "      <td>0.0</td>\n",
       "      <td>1.0</td>\n",
       "      <td>0.0</td>\n",
       "      <td>0.0</td>\n",
       "    </tr>\n",
       "    <tr>\n",
       "      <th>726</th>\n",
       "      <td>ID00421637202311550012437</td>\n",
       "      <td>1.000000</td>\n",
       "      <td>NaN</td>\n",
       "      <td>NaN</td>\n",
       "      <td>0.487179</td>\n",
       "      <td>Male</td>\n",
       "      <td>Ex-smoker</td>\n",
       "      <td>0.238095</td>\n",
       "      <td>0.320208</td>\n",
       "      <td>0.352843</td>\n",
       "      <td>0.523268</td>\n",
       "      <td>test</td>\n",
       "      <td>ID00421637202311550012437_133</td>\n",
       "      <td>1.0</td>\n",
       "      <td>0.0</td>\n",
       "      <td>1.0</td>\n",
       "      <td>0.0</td>\n",
       "      <td>0.0</td>\n",
       "    </tr>\n",
       "    <tr>\n",
       "      <th>727</th>\n",
       "      <td>ID00422637202311677017371</td>\n",
       "      <td>1.000000</td>\n",
       "      <td>NaN</td>\n",
       "      <td>NaN</td>\n",
       "      <td>0.615385</td>\n",
       "      <td>Male</td>\n",
       "      <td>Ex-smoker</td>\n",
       "      <td>0.130952</td>\n",
       "      <td>0.169948</td>\n",
       "      <td>0.303848</td>\n",
       "      <td>0.276239</td>\n",
       "      <td>test</td>\n",
       "      <td>ID00422637202311677017371_133</td>\n",
       "      <td>1.0</td>\n",
       "      <td>0.0</td>\n",
       "      <td>1.0</td>\n",
       "      <td>0.0</td>\n",
       "      <td>0.0</td>\n",
       "    </tr>\n",
       "    <tr>\n",
       "      <th>728</th>\n",
       "      <td>ID00423637202312137826377</td>\n",
       "      <td>1.000000</td>\n",
       "      <td>NaN</td>\n",
       "      <td>NaN</td>\n",
       "      <td>0.589744</td>\n",
       "      <td>Male</td>\n",
       "      <td>Ex-smoker</td>\n",
       "      <td>0.261905</td>\n",
       "      <td>0.423291</td>\n",
       "      <td>0.327434</td>\n",
       "      <td>0.769215</td>\n",
       "      <td>test</td>\n",
       "      <td>ID00423637202312137826377_133</td>\n",
       "      <td>1.0</td>\n",
       "      <td>0.0</td>\n",
       "      <td>1.0</td>\n",
       "      <td>0.0</td>\n",
       "      <td>0.0</td>\n",
       "    </tr>\n",
       "    <tr>\n",
       "      <th>729</th>\n",
       "      <td>ID00426637202313170790466</td>\n",
       "      <td>1.000000</td>\n",
       "      <td>NaN</td>\n",
       "      <td>NaN</td>\n",
       "      <td>0.615385</td>\n",
       "      <td>Male</td>\n",
       "      <td>Never smoked</td>\n",
       "      <td>0.059524</td>\n",
       "      <td>0.354755</td>\n",
       "      <td>0.259644</td>\n",
       "      <td>0.744066</td>\n",
       "      <td>test</td>\n",
       "      <td>ID00426637202313170790466_133</td>\n",
       "      <td>1.0</td>\n",
       "      <td>0.0</td>\n",
       "      <td>0.0</td>\n",
       "      <td>1.0</td>\n",
       "      <td>0.0</td>\n",
       "    </tr>\n",
       "  </tbody>\n",
       "</table>\n",
       "<p>2265 rows × 18 columns</p>\n",
       "</div>"
      ],
      "text/plain": [
       "                       Patient     Weeks     FVC   Percent       Age   Sex  \\\n",
       "0    ID00007637202177411956430  0.055172  2315.0  0.236393  0.769231  Male   \n",
       "1    ID00007637202177411956430  0.117241  2214.0  0.215941  0.769231  Male   \n",
       "2    ID00007637202177411956430  0.131034  2061.0  0.184960  0.769231  Male   \n",
       "3    ID00007637202177411956430  0.144828  2144.0  0.201767  0.769231  Male   \n",
       "4    ID00007637202177411956430  0.158621  2069.0  0.186580  0.769231  Male   \n",
       "..                         ...       ...     ...       ...       ...   ...   \n",
       "725  ID00419637202311204720264  1.000000     NaN       NaN  0.615385  Male   \n",
       "726  ID00421637202311550012437  1.000000     NaN       NaN  0.487179  Male   \n",
       "727  ID00422637202311677017371  1.000000     NaN       NaN  0.615385  Male   \n",
       "728  ID00423637202312137826377  1.000000     NaN       NaN  0.589744  Male   \n",
       "729  ID00426637202313170790466  1.000000     NaN       NaN  0.615385  Male   \n",
       "\n",
       "    SmokingStatus  Base_Week  Base_FVC  Base_Percent  Typical_FVC   Type  \\\n",
       "0       Ex-smoker   0.011905  0.241456      0.135886     0.714466  train   \n",
       "1       Ex-smoker   0.011905  0.241456      0.135886     0.714466  train   \n",
       "2       Ex-smoker   0.011905  0.241456      0.135886     0.714466  train   \n",
       "3       Ex-smoker   0.011905  0.241456      0.135886     0.714466  train   \n",
       "4       Ex-smoker   0.011905  0.241456      0.135886     0.714466  train   \n",
       "..            ...        ...       ...           ...          ...    ...   \n",
       "725     Ex-smoker   0.130952  0.372400      0.244706     0.813374   test   \n",
       "726     Ex-smoker   0.238095  0.320208      0.352843     0.523268   test   \n",
       "727     Ex-smoker   0.130952  0.169948      0.303848     0.276239   test   \n",
       "728     Ex-smoker   0.261905  0.423291      0.327434     0.769215   test   \n",
       "729  Never smoked   0.059524  0.354755      0.259644     0.744066   test   \n",
       "\n",
       "                      Patient_Week  sex_m  sex_f  sm_es  sm_ns  sm_cs  \n",
       "0                              NaN    1.0    0.0    1.0    0.0    0.0  \n",
       "1                              NaN    1.0    0.0    1.0    0.0    0.0  \n",
       "2                              NaN    1.0    0.0    1.0    0.0    0.0  \n",
       "3                              NaN    1.0    0.0    1.0    0.0    0.0  \n",
       "4                              NaN    1.0    0.0    1.0    0.0    0.0  \n",
       "..                             ...    ...    ...    ...    ...    ...  \n",
       "725  ID00419637202311204720264_133    1.0    0.0    1.0    0.0    0.0  \n",
       "726  ID00421637202311550012437_133    1.0    0.0    1.0    0.0    0.0  \n",
       "727  ID00422637202311677017371_133    1.0    0.0    1.0    0.0    0.0  \n",
       "728  ID00423637202312137826377_133    1.0    0.0    1.0    0.0    0.0  \n",
       "729  ID00426637202313170790466_133    1.0    0.0    0.0    1.0    0.0  \n",
       "\n",
       "[2265 rows x 18 columns]"
      ]
     },
     "execution_count": 17,
     "metadata": {},
     "output_type": "execute_result"
    }
   ],
   "source": [
    "data"
   ]
  },
  {
   "cell_type": "code",
   "execution_count": 18,
   "metadata": {
    "execution": {
     "iopub.execute_input": "2020-09-23T15:53:26.728487Z",
     "iopub.status.busy": "2020-09-23T15:53:26.727905Z",
     "iopub.status.idle": "2020-09-23T15:53:26.731741Z",
     "shell.execute_reply": "2020-09-23T15:53:26.731259Z"
    },
    "papermill": {
     "duration": 0.035086,
     "end_time": "2020-09-23T15:53:26.731831",
     "exception": false,
     "start_time": "2020-09-23T15:53:26.696745",
     "status": "completed"
    },
    "tags": []
   },
   "outputs": [],
   "source": [
    "x_train = x_train.astype(np.float32)\n",
    "y_train = y_train.astype(np.float32)\n",
    "x_test = x_test.astype(np.float32)"
   ]
  },
  {
   "cell_type": "code",
   "execution_count": 19,
   "metadata": {
    "execution": {
     "iopub.execute_input": "2020-09-23T15:53:26.791287Z",
     "iopub.status.busy": "2020-09-23T15:53:26.790668Z",
     "iopub.status.idle": "2020-09-23T15:53:26.796289Z",
     "shell.execute_reply": "2020-09-23T15:53:26.795777Z"
    },
    "papermill": {
     "duration": 0.036869,
     "end_time": "2020-09-23T15:53:26.796375",
     "exception": false,
     "start_time": "2020-09-23T15:53:26.759506",
     "status": "completed"
    },
    "tags": []
   },
   "outputs": [
    {
     "data": {
      "text/plain": [
       "((1535, 9), (1535, 1), (730, 9))"
      ]
     },
     "execution_count": 19,
     "metadata": {},
     "output_type": "execute_result"
    }
   ],
   "source": [
    "x_train.shape,y_train.shape,x_test.shape"
   ]
  },
  {
   "cell_type": "code",
   "execution_count": 20,
   "metadata": {
    "execution": {
     "iopub.execute_input": "2020-09-23T15:53:26.856615Z",
     "iopub.status.busy": "2020-09-23T15:53:26.856040Z",
     "iopub.status.idle": "2020-09-23T15:53:26.861873Z",
     "shell.execute_reply": "2020-09-23T15:53:26.861330Z"
    },
    "papermill": {
     "duration": 0.037691,
     "end_time": "2020-09-23T15:53:26.861968",
     "exception": false,
     "start_time": "2020-09-23T15:53:26.824277",
     "status": "completed"
    },
    "tags": []
   },
   "outputs": [
    {
     "data": {
      "text/plain": [
       "numpy.float32"
      ]
     },
     "execution_count": 20,
     "metadata": {},
     "output_type": "execute_result"
    }
   ],
   "source": [
    "type(x_train[0][3])"
   ]
  },
  {
   "cell_type": "code",
   "execution_count": 21,
   "metadata": {
    "execution": {
     "iopub.execute_input": "2020-09-23T15:53:26.923822Z",
     "iopub.status.busy": "2020-09-23T15:53:26.923252Z",
     "iopub.status.idle": "2020-09-23T15:53:26.928538Z",
     "shell.execute_reply": "2020-09-23T15:53:26.929046Z"
    },
    "papermill": {
     "duration": 0.038386,
     "end_time": "2020-09-23T15:53:26.929160",
     "exception": false,
     "start_time": "2020-09-23T15:53:26.890774",
     "status": "completed"
    },
    "tags": []
   },
   "outputs": [
    {
     "data": {
      "text/plain": [
       "(numpy.ndarray, numpy.ndarray, numpy.ndarray)"
      ]
     },
     "execution_count": 21,
     "metadata": {},
     "output_type": "execute_result"
    }
   ],
   "source": [
    "type(x_train),type(y_train),type(x_test)"
   ]
  },
  {
   "cell_type": "code",
   "execution_count": 22,
   "metadata": {
    "execution": {
     "iopub.execute_input": "2020-09-23T15:53:27.010299Z",
     "iopub.status.busy": "2020-09-23T15:53:26.999960Z",
     "iopub.status.idle": "2020-09-23T15:53:27.019178Z",
     "shell.execute_reply": "2020-09-23T15:53:27.019611Z"
    },
    "papermill": {
     "duration": 0.061586,
     "end_time": "2020-09-23T15:53:27.019721",
     "exception": false,
     "start_time": "2020-09-23T15:53:26.958135",
     "status": "completed"
    },
    "tags": []
   },
   "outputs": [],
   "source": [
    "class Data_Generator(tf.keras.utils.Sequence):\n",
    "    \n",
    "    def __init__(self,batch_size,patient_ids,tab_data,dim,target=None,train=True,augment=False):\n",
    "        self.batch_size = batch_size\n",
    "        self.image_ids = patient_ids\n",
    "        self.augment = augment\n",
    "        self.dim = dim\n",
    "        self.target = target\n",
    "        self.indices = range(len(self.image_ids))\n",
    "        self.train = train\n",
    "        self.tab_data = tab_data\n",
    "        #self.on_epoch_end()\n",
    "    \n",
    "    def getimage(self,image_id):\n",
    "        X1 = np.zeros((NUM_IMAGES,self.dim[1],self.dim[2], 1))\n",
    "        if self.train:\n",
    "            path = TRAIN_PATH\n",
    "        else:\n",
    "            path = TEST_PATH\n",
    "        im_num = len(os.listdir(os.path.join(path,image_id)))\n",
    "        if im_num < NUM_IMAGES+1:\n",
    "            for i,dcm_i in enumerate(os.listdir(os.path.join(path,image_id))):\n",
    "                try:\n",
    "                    im = pydicom.dcmread(os.path.join(TRAIN_PATH,f'{image_id}/{dcm_i}'))\n",
    "                    img = im.pixel_array/255\n",
    "                    img = cv2.resize(img, (self.dim[1],self.dim[2]))\n",
    "                    img = np.reshape(img,(IMAGE_DIM[1],IMAGE_DIM[2],1))\n",
    "                    X1[i,] = img\n",
    "                    if i>=NUM_IMAGES-1:\n",
    "                        break\n",
    "                except:\n",
    "                    continue\n",
    "        else:\n",
    "            val = (im_num - NUM_IMAGES)//2\n",
    "            dir_list = os.listdir(os.path.join(path,image_id))\n",
    "            dir_list.sort()\n",
    "            for i,dcm_i in enumerate(dir_list[val:]):\n",
    "                try:\n",
    "                    im = pydicom.dcmread(os.path.join(TRAIN_PATH,f'{image_id}/{dcm_i}'))\n",
    "                    img = im.pixel_array/255\n",
    "                    img = cv2.resize(img, (self.dim[1],self.dim[2]))\n",
    "                    img = np.reshape(img,(IMAGE_DIM[1],IMAGE_DIM[2],1))\n",
    "                    X1[i,] = img\n",
    "                    if i>=NUM_IMAGES-1:\n",
    "                        break\n",
    "                except:\n",
    "                    continue\n",
    "               \n",
    "        if self.augment == True:\n",
    "            img = self.ImageAugment(img)\n",
    "            return img\n",
    "        return X1\n",
    "    \n",
    "    def on_epoch_end(self):\n",
    "        return self.indices\n",
    "    \n",
    "    def getdata(self, image_id_list):\n",
    "        X = np.empty((self.batch_size,*self.dim, 1))\n",
    "        for i, im_id in enumerate(image_id_list):\n",
    "            #print(i)\n",
    "            X[i,] = self.getimage(im_id)\n",
    "        \n",
    "        return X\n",
    "    '''\n",
    "    def ImageAugment(self,image):\n",
    "        augmentor = ImageAugmentor(image,axis_point=[self.dim/2,self.dim/2])\n",
    "        augmentor.cutmix()\n",
    "        #augmentor.zoom()\n",
    "        augmentor.flip()\n",
    "        augmentor.rotate()\n",
    "        return augmentor.get_image()\n",
    "    ''' \n",
    "    \n",
    "    def __getitem__(self,index):\n",
    "        indices = self.indices[index*self.batch_size:(index+1)*self.batch_size]\n",
    "        \n",
    "        image_id_list = [self.image_ids[k] for k in indices]\n",
    "        tab_X = np.array([self.tab_data[k] for k in indices]).astype(np.float32)\n",
    "        X = self.getdata(image_id_list)\n",
    "        if self.train == True:\n",
    "            target_list = [self.target[k] for k in indices]\n",
    "            y = np.array(target_list).astype(np.float32)\n",
    "            return [X,tab_X],y\n",
    "        return [X,tab_X]\n",
    "    \n",
    "    def __len__(self):\n",
    "        return int(np.floor(len(self.indices)/self.batch_size))\n",
    "    "
   ]
  },
  {
   "cell_type": "code",
   "execution_count": 23,
   "metadata": {
    "execution": {
     "iopub.execute_input": "2020-09-23T15:53:29.941452Z",
     "iopub.status.busy": "2020-09-23T15:53:27.889198Z",
     "iopub.status.idle": "2020-09-23T15:53:29.946215Z",
     "shell.execute_reply": "2020-09-23T15:53:29.945591Z"
    },
    "papermill": {
     "duration": 2.897397,
     "end_time": "2020-09-23T15:53:29.946343",
     "exception": false,
     "start_time": "2020-09-23T15:53:27.048946",
     "status": "completed"
    },
    "tags": []
   },
   "outputs": [],
   "source": [
    "C1, C2 = tf.constant(70, dtype='float32'), tf.constant(1000, dtype=\"float32\")\n",
    "#=============================#\n",
    "def score(y_true, y_pred):\n",
    "    tf.dtypes.cast(y_true, tf.float32)\n",
    "    tf.dtypes.cast(y_pred, tf.float32)\n",
    "    sigma = y_pred[:,2]-y_pred[:,0]\n",
    "    fvc_pred = y_pred[:,1]\n",
    "    #sigma_clip = sigma + C1\n",
    "    sigma_clip = tf.maximum(sigma, C1)\n",
    "    delta = tf.abs(y_true[:,0] - fvc_pred)\n",
    "    delta = tf.minimum(delta, C2)\n",
    "    sq2 = tf.sqrt( tf.dtypes.cast(2, dtype=tf.float32) )\n",
    "    metric = (delta / sigma_clip)*sq2 + tf.math.log(sigma_clip* sq2)\n",
    "    return K.mean(metric)\n",
    "#============================#\n",
    "def qloss(y_true, y_pred):\n",
    "    # Pinball loss for multiple quantiles\n",
    "    qs = [0.2,0.50,0.8]\n",
    "    q = tf.constant(np.array([qs]), dtype=tf.float32)\n",
    "    e = y_true - y_pred\n",
    "    v = tf.maximum(q*e,(q-1)*e)\n",
    "    return K.mean(v)\n",
    "#=============================#\n",
    "def mloss(_lambda):\n",
    "    def loss(y_true, y_pred):\n",
    "        return _lambda * qloss(y_true, y_pred) + (1 - _lambda)*score(y_true, y_pred)\n",
    "    return loss\n",
    "#================="
   ]
  },
  {
   "cell_type": "code",
   "execution_count": 24,
   "metadata": {
    "execution": {
     "iopub.execute_input": "2020-09-23T15:53:30.028688Z",
     "iopub.status.busy": "2020-09-23T15:53:30.027960Z",
     "iopub.status.idle": "2020-09-23T15:53:30.031192Z",
     "shell.execute_reply": "2020-09-23T15:53:30.030695Z"
    },
    "papermill": {
     "duration": 0.054862,
     "end_time": "2020-09-23T15:53:30.031294",
     "exception": false,
     "start_time": "2020-09-23T15:53:29.976432",
     "status": "completed"
    },
    "tags": []
   },
   "outputs": [],
   "source": [
    "x_train = data[x_cols].loc[data['Type'] == \"train\"].values\n",
    "y_train = data[prediction_col].loc[data['Type'] == \"train\"].values\n",
    "x_test = data[x_cols].loc[data['Type'] == \"test\"].values"
   ]
  },
  {
   "cell_type": "code",
   "execution_count": 25,
   "metadata": {
    "execution": {
     "iopub.execute_input": "2020-09-23T15:53:30.096890Z",
     "iopub.status.busy": "2020-09-23T15:53:30.096268Z",
     "iopub.status.idle": "2020-09-23T15:53:30.542454Z",
     "shell.execute_reply": "2020-09-23T15:53:30.541933Z"
    },
    "papermill": {
     "duration": 0.481801,
     "end_time": "2020-09-23T15:53:30.542565",
     "exception": false,
     "start_time": "2020-09-23T15:53:30.060764",
     "status": "completed"
    },
    "tags": []
   },
   "outputs": [
    {
     "name": "stdout",
     "output_type": "stream",
     "text": [
      "Model: \"model\"\n",
      "__________________________________________________________________________________________________\n",
      "Layer (type)                    Output Shape         Param #     Connected to                     \n",
      "==================================================================================================\n",
      "input_1 (InputLayer)            [(None, 9)]          0                                            \n",
      "__________________________________________________________________________________________________\n",
      "dense (Dense)                   (None, 128)          1280        input_1[0][0]                    \n",
      "__________________________________________________________________________________________________\n",
      "dense_1 (Dense)                 (None, 128)          16512       dense[0][0]                      \n",
      "__________________________________________________________________________________________________\n",
      "dense_2 (Dense)                 (None, 64)           8256        dense_1[0][0]                    \n",
      "__________________________________________________________________________________________________\n",
      "dense_3 (Dense)                 (None, 3)            195         dense_2[0][0]                    \n",
      "__________________________________________________________________________________________________\n",
      "dense_4 (Dense)                 (None, 3)            195         dense_2[0][0]                    \n",
      "__________________________________________________________________________________________________\n",
      "lambda (Lambda)                 (None, 3)            0           dense_3[0][0]                    \n",
      "                                                                 dense_4[0][0]                    \n",
      "==================================================================================================\n",
      "Total params: 26,438\n",
      "Trainable params: 26,438\n",
      "Non-trainable params: 0\n",
      "__________________________________________________________________________________________________\n"
     ]
    }
   ],
   "source": [
    "model = M.load_model('../input/tab-data-osic/dense_model.h5',custom_objects={'loss':mloss,'score':score})\n",
    "model.summary()"
   ]
  },
  {
   "cell_type": "code",
   "execution_count": 26,
   "metadata": {
    "execution": {
     "iopub.execute_input": "2020-09-23T15:53:30.610078Z",
     "iopub.status.busy": "2020-09-23T15:53:30.608388Z",
     "iopub.status.idle": "2020-09-23T15:53:30.610895Z",
     "shell.execute_reply": "2020-09-23T15:53:30.611383Z"
    },
    "papermill": {
     "duration": 0.038703,
     "end_time": "2020-09-23T15:53:30.611505",
     "exception": false,
     "start_time": "2020-09-23T15:53:30.572802",
     "status": "completed"
    },
    "tags": []
   },
   "outputs": [],
   "source": [
    "test_patient_ids = data['Patient'].loc[data['Type'] == \"test\"].values"
   ]
  },
  {
   "cell_type": "code",
   "execution_count": 27,
   "metadata": {
    "execution": {
     "iopub.execute_input": "2020-09-23T15:53:30.679220Z",
     "iopub.status.busy": "2020-09-23T15:53:30.677432Z",
     "iopub.status.idle": "2020-09-23T15:53:30.679875Z",
     "shell.execute_reply": "2020-09-23T15:53:30.680349Z"
    },
    "papermill": {
     "duration": 0.037373,
     "end_time": "2020-09-23T15:53:30.680478",
     "exception": false,
     "start_time": "2020-09-23T15:53:30.643105",
     "status": "completed"
    },
    "tags": []
   },
   "outputs": [],
   "source": [
    "test_gen = Data_Generator(2,test_patient_ids,x_test,IMAGE_DIM,train=False)"
   ]
  },
  {
   "cell_type": "code",
   "execution_count": 28,
   "metadata": {
    "execution": {
     "iopub.execute_input": "2020-09-23T15:53:30.745826Z",
     "iopub.status.busy": "2020-09-23T15:53:30.745212Z",
     "iopub.status.idle": "2020-09-23T15:53:30.750069Z",
     "shell.execute_reply": "2020-09-23T15:53:30.750504Z"
    },
    "papermill": {
     "duration": 0.039651,
     "end_time": "2020-09-23T15:53:30.750634",
     "exception": false,
     "start_time": "2020-09-23T15:53:30.710983",
     "status": "completed"
    },
    "tags": []
   },
   "outputs": [
    {
     "name": "stdout",
     "output_type": "stream",
     "text": [
      "Inferencing\n"
     ]
    }
   ],
   "source": [
    "print(\"Inferencing\")"
   ]
  },
  {
   "cell_type": "code",
   "execution_count": 29,
   "metadata": {
    "execution": {
     "iopub.execute_input": "2020-09-23T15:53:30.816577Z",
     "iopub.status.busy": "2020-09-23T15:53:30.815951Z",
     "iopub.status.idle": "2020-09-23T15:53:30.820533Z",
     "shell.execute_reply": "2020-09-23T15:53:30.821193Z"
    },
    "papermill": {
     "duration": 0.039982,
     "end_time": "2020-09-23T15:53:30.821332",
     "exception": false,
     "start_time": "2020-09-23T15:53:30.781350",
     "status": "completed"
    },
    "tags": []
   },
   "outputs": [
    {
     "name": "stdout",
     "output_type": "stream",
     "text": [
      "730\n"
     ]
    }
   ],
   "source": [
    "print(len(test_patient_ids))"
   ]
  },
  {
   "cell_type": "code",
   "execution_count": 30,
   "metadata": {
    "execution": {
     "iopub.execute_input": "2020-09-23T15:53:30.889813Z",
     "iopub.status.busy": "2020-09-23T15:53:30.889208Z",
     "iopub.status.idle": "2020-09-23T15:53:31.885231Z",
     "shell.execute_reply": "2020-09-23T15:53:31.884678Z"
    },
    "papermill": {
     "duration": 1.032206,
     "end_time": "2020-09-23T15:53:31.885345",
     "exception": false,
     "start_time": "2020-09-23T15:53:30.853139",
     "status": "completed"
    },
    "tags": []
   },
   "outputs": [
    {
     "name": "stdout",
     "output_type": "stream",
     "text": [
      "23/23 [==============================] - 0s 1ms/step\n"
     ]
    }
   ],
   "source": [
    "pred = model.predict(x_test,verbose=1)"
   ]
  },
  {
   "cell_type": "code",
   "execution_count": 31,
   "metadata": {
    "execution": {
     "iopub.execute_input": "2020-09-23T15:53:31.960426Z",
     "iopub.status.busy": "2020-09-23T15:53:31.958698Z",
     "iopub.status.idle": "2020-09-23T15:53:31.961179Z",
     "shell.execute_reply": "2020-09-23T15:53:31.961652Z"
    },
    "papermill": {
     "duration": 0.043618,
     "end_time": "2020-09-23T15:53:31.961767",
     "exception": false,
     "start_time": "2020-09-23T15:53:31.918149",
     "status": "completed"
    },
    "tags": []
   },
   "outputs": [],
   "source": [
    "conf = pred[:,2] - pred[:,0]\n",
    "for i in range(len(conf)):\n",
    "    conf[i] = max(conf[i],70)"
   ]
  },
  {
   "cell_type": "code",
   "execution_count": 32,
   "metadata": {
    "execution": {
     "iopub.execute_input": "2020-09-23T15:53:32.033487Z",
     "iopub.status.busy": "2020-09-23T15:53:32.031685Z",
     "iopub.status.idle": "2020-09-23T15:53:32.034157Z",
     "shell.execute_reply": "2020-09-23T15:53:32.034628Z"
    },
    "papermill": {
     "duration": 0.040346,
     "end_time": "2020-09-23T15:53:32.034738",
     "exception": false,
     "start_time": "2020-09-23T15:53:31.994392",
     "status": "completed"
    },
    "tags": []
   },
   "outputs": [],
   "source": [
    "pred_dict = {'FVC':pred[:,1],'Confidence':conf}\n",
    "pred_df = pd.DataFrame(pred_dict)"
   ]
  },
  {
   "cell_type": "code",
   "execution_count": 33,
   "metadata": {
    "execution": {
     "iopub.execute_input": "2020-09-23T15:53:32.105801Z",
     "iopub.status.busy": "2020-09-23T15:53:32.105241Z",
     "iopub.status.idle": "2020-09-23T15:53:32.108893Z",
     "shell.execute_reply": "2020-09-23T15:53:32.109337Z"
    },
    "papermill": {
     "duration": 0.042322,
     "end_time": "2020-09-23T15:53:32.109448",
     "exception": false,
     "start_time": "2020-09-23T15:53:32.067126",
     "status": "completed"
    },
    "tags": []
   },
   "outputs": [],
   "source": [
    "sub['Confidence'] = pred_df['Confidence']\n",
    "sub['FVC'] = pred_df['FVC']"
   ]
  },
  {
   "cell_type": "code",
   "execution_count": 34,
   "metadata": {
    "execution": {
     "iopub.execute_input": "2020-09-23T15:53:32.182801Z",
     "iopub.status.busy": "2020-09-23T15:53:32.181067Z",
     "iopub.status.idle": "2020-09-23T15:53:32.183512Z",
     "shell.execute_reply": "2020-09-23T15:53:32.183992Z"
    },
    "papermill": {
     "duration": 0.041802,
     "end_time": "2020-09-23T15:53:32.184100",
     "exception": false,
     "start_time": "2020-09-23T15:53:32.142298",
     "status": "completed"
    },
    "tags": []
   },
   "outputs": [],
   "source": [
    "subm = sub[['Patient_Week','FVC','Confidence']].copy()"
   ]
  },
  {
   "cell_type": "code",
   "execution_count": 35,
   "metadata": {
    "execution": {
     "iopub.execute_input": "2020-09-23T15:53:32.253768Z",
     "iopub.status.busy": "2020-09-23T15:53:32.253181Z",
     "iopub.status.idle": "2020-09-23T15:53:32.309961Z",
     "shell.execute_reply": "2020-09-23T15:53:32.309430Z"
    },
    "papermill": {
     "duration": 0.093212,
     "end_time": "2020-09-23T15:53:32.310102",
     "exception": false,
     "start_time": "2020-09-23T15:53:32.216890",
     "status": "completed"
    },
    "tags": []
   },
   "outputs": [],
   "source": [
    "subm.to_csv(\"submission.csv\", index=False)"
   ]
  },
  {
   "cell_type": "code",
   "execution_count": 36,
   "metadata": {
    "execution": {
     "iopub.execute_input": "2020-09-23T15:53:32.389613Z",
     "iopub.status.busy": "2020-09-23T15:53:32.388774Z",
     "iopub.status.idle": "2020-09-23T15:53:32.393162Z",
     "shell.execute_reply": "2020-09-23T15:53:32.393643Z"
    },
    "papermill": {
     "duration": 0.050841,
     "end_time": "2020-09-23T15:53:32.393748",
     "exception": false,
     "start_time": "2020-09-23T15:53:32.342907",
     "status": "completed"
    },
    "tags": []
   },
   "outputs": [
    {
     "data": {
      "text/html": [
       "<div>\n",
       "<style scoped>\n",
       "    .dataframe tbody tr th:only-of-type {\n",
       "        vertical-align: middle;\n",
       "    }\n",
       "\n",
       "    .dataframe tbody tr th {\n",
       "        vertical-align: top;\n",
       "    }\n",
       "\n",
       "    .dataframe thead th {\n",
       "        text-align: right;\n",
       "    }\n",
       "</style>\n",
       "<table border=\"1\" class=\"dataframe\">\n",
       "  <thead>\n",
       "    <tr style=\"text-align: right;\">\n",
       "      <th></th>\n",
       "      <th>Patient_Week</th>\n",
       "      <th>FVC</th>\n",
       "      <th>Confidence</th>\n",
       "    </tr>\n",
       "  </thead>\n",
       "  <tbody>\n",
       "    <tr>\n",
       "      <th>0</th>\n",
       "      <td>ID00419637202311204720264_-12</td>\n",
       "      <td>3086.141113</td>\n",
       "      <td>233.427734</td>\n",
       "    </tr>\n",
       "    <tr>\n",
       "      <th>1</th>\n",
       "      <td>ID00421637202311550012437_-12</td>\n",
       "      <td>2869.516846</td>\n",
       "      <td>198.660889</td>\n",
       "    </tr>\n",
       "    <tr>\n",
       "      <th>2</th>\n",
       "      <td>ID00422637202311677017371_-12</td>\n",
       "      <td>2018.793945</td>\n",
       "      <td>224.039673</td>\n",
       "    </tr>\n",
       "    <tr>\n",
       "      <th>3</th>\n",
       "      <td>ID00423637202312137826377_-12</td>\n",
       "      <td>3461.710938</td>\n",
       "      <td>178.082520</td>\n",
       "    </tr>\n",
       "    <tr>\n",
       "      <th>4</th>\n",
       "      <td>ID00426637202313170790466_-12</td>\n",
       "      <td>2937.440674</td>\n",
       "      <td>223.564453</td>\n",
       "    </tr>\n",
       "    <tr>\n",
       "      <th>...</th>\n",
       "      <td>...</td>\n",
       "      <td>...</td>\n",
       "      <td>...</td>\n",
       "    </tr>\n",
       "    <tr>\n",
       "      <th>725</th>\n",
       "      <td>ID00419637202311204720264_133</td>\n",
       "      <td>2735.941162</td>\n",
       "      <td>450.392578</td>\n",
       "    </tr>\n",
       "    <tr>\n",
       "      <th>726</th>\n",
       "      <td>ID00421637202311550012437_133</td>\n",
       "      <td>2461.265381</td>\n",
       "      <td>408.124756</td>\n",
       "    </tr>\n",
       "    <tr>\n",
       "      <th>727</th>\n",
       "      <td>ID00422637202311677017371_133</td>\n",
       "      <td>1827.992432</td>\n",
       "      <td>369.147461</td>\n",
       "    </tr>\n",
       "    <tr>\n",
       "      <th>728</th>\n",
       "      <td>ID00423637202312137826377_133</td>\n",
       "      <td>3019.620605</td>\n",
       "      <td>447.003174</td>\n",
       "    </tr>\n",
       "    <tr>\n",
       "      <th>729</th>\n",
       "      <td>ID00426637202313170790466_133</td>\n",
       "      <td>2601.304199</td>\n",
       "      <td>491.362305</td>\n",
       "    </tr>\n",
       "  </tbody>\n",
       "</table>\n",
       "<p>730 rows × 3 columns</p>\n",
       "</div>"
      ],
      "text/plain": [
       "                      Patient_Week          FVC  Confidence\n",
       "0    ID00419637202311204720264_-12  3086.141113  233.427734\n",
       "1    ID00421637202311550012437_-12  2869.516846  198.660889\n",
       "2    ID00422637202311677017371_-12  2018.793945  224.039673\n",
       "3    ID00423637202312137826377_-12  3461.710938  178.082520\n",
       "4    ID00426637202313170790466_-12  2937.440674  223.564453\n",
       "..                             ...          ...         ...\n",
       "725  ID00419637202311204720264_133  2735.941162  450.392578\n",
       "726  ID00421637202311550012437_133  2461.265381  408.124756\n",
       "727  ID00422637202311677017371_133  1827.992432  369.147461\n",
       "728  ID00423637202312137826377_133  3019.620605  447.003174\n",
       "729  ID00426637202313170790466_133  2601.304199  491.362305\n",
       "\n",
       "[730 rows x 3 columns]"
      ]
     },
     "execution_count": 36,
     "metadata": {},
     "output_type": "execute_result"
    }
   ],
   "source": [
    "subm"
   ]
  },
  {
   "cell_type": "code",
   "execution_count": null,
   "metadata": {
    "papermill": {
     "duration": 0.034756,
     "end_time": "2020-09-23T15:53:32.462415",
     "exception": false,
     "start_time": "2020-09-23T15:53:32.427659",
     "status": "completed"
    },
    "tags": []
   },
   "outputs": [],
   "source": []
  }
 ],
 "metadata": {
  "kernelspec": {
   "display_name": "Python 3",
   "language": "python",
   "name": "python3"
  },
  "language_info": {
   "codemirror_mode": {
    "name": "ipython",
    "version": 3
   },
   "file_extension": ".py",
   "mimetype": "text/x-python",
   "name": "python",
   "nbconvert_exporter": "python",
   "pygments_lexer": "ipython3",
   "version": "3.7.6"
  },
  "papermill": {
   "duration": 19.84528,
   "end_time": "2020-09-23T15:53:33.919219",
   "environment_variables": {},
   "exception": null,
   "input_path": "__notebook__.ipynb",
   "output_path": "__notebook__.ipynb",
   "parameters": {},
   "start_time": "2020-09-23T15:53:14.073939",
   "version": "2.1.0"
  }
 },
 "nbformat": 4,
 "nbformat_minor": 4
}
